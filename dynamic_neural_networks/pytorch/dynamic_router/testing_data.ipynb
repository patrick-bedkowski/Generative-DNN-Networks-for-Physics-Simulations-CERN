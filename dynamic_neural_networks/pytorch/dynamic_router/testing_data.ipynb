{
 "cells": [
  {
   "cell_type": "code",
   "execution_count": 4,
   "outputs": [
    {
     "data": {
      "text/plain": "(5.0, 2312.0)"
     },
     "execution_count": 4,
     "metadata": {},
     "output_type": "execute_result"
    }
   ],
   "source": [
    "import pandas as pd\n",
    "import numpy as np\n",
    "from sklearn.model_selection import train_test_split\n",
    "\n",
    "data = pd.read_pickle(r\"C:\\Users\\PB\\Documents\\GithubRepos\\Generative-Models-for-CERN-Fast-Simulations\\data\\data_cond_photonsum_proton_5_2312.pkl\")\n",
    "data_cond = pd.read_pickle(r\"C:\\Users\\PB\\Documents\\GithubRepos\\Generative-Models-for-CERN-Fast-Simulations\\data\\data_cond_photonsum_proton_5_2312.pkl\")\n",
    "data_coord = pd.read_pickle(r\"C:\\Users\\PB\\Documents\\GithubRepos\\Generative-Models-for-CERN-Fast-Simulations\\data\\data_coord_proton_photonsum_proton_5_2312.pkl\")\n",
    "photon_sum_proton_min, photon_sum_proton_max = data_cond.proton_photon_sum.min(), data_cond.proton_photon_sum.max()\n",
    "photon_sum_proton_min, photon_sum_proton_max"
   ],
   "metadata": {
    "collapsed": false,
    "pycharm": {
     "name": "#%%\n"
    }
   }
  },
  {
   "cell_type": "code",
   "execution_count": 7,
   "outputs": [
    {
     "data": {
      "text/plain": "          Energy            Vx            Vy            Vz        Px  \\\n0       1304.340 -1.831820e-05  1.555780e-05  5.029320e-02 -0.509192   \n1        325.158  0.000000e+00  0.000000e+00  0.000000e+00  0.269915   \n2       3192.380  0.000000e+00  0.000000e+00  0.000000e+00  0.022422   \n3       2082.630  0.000000e+00  0.000000e+00  0.000000e+00 -0.171176   \n4        174.401  4.998120e-06  2.304080e-06 -2.588240e-03  0.292035   \n...          ...           ...           ...           ...       ...   \n186092  1775.280 -3.317000e-17 -3.109770e-18 -1.414050e-13 -0.416436   \n186093  4071.230  0.000000e+00  0.000000e+00  0.000000e+00  0.089305   \n186094  4003.600  0.000000e+00  0.000000e+00  0.000000e+00  0.769178   \n186095   892.561  3.026130e-05 -2.853110e-06  1.149290e-01  0.286136   \n186096  2609.470  0.000000e+00  0.000000e+00  0.000000e+00 -0.190964   \n\n              Py        Pz         mass  charge  std_proton  proton_photon_sum  \n0       0.461106  1304.340     0.000000     0.0    0.060663                9.0  \n1      -0.081921   325.157   139.570610    -1.0    0.020876                5.0  \n2      -0.182957 -3192.380   939.565413     0.0    0.071018               16.0  \n3       0.281748  2082.630   938.272081     1.0    0.190404                6.0  \n4       0.104749  -174.400     0.000000     0.0    0.038352               14.0  \n...          ...       ...          ...     ...         ...                ...  \n186092 -0.039042 -1775.280   497.611000     0.0    0.023191                5.0  \n186093  0.069410 -4071.230  1115.683000     0.0    0.427253             1246.0  \n186094 -0.276743  4003.600  1115.683000     0.0    0.263543               36.0  \n186095  0.021616   892.561     0.000000     0.0    0.026345                9.0  \n186096  0.148528 -2609.460   938.272081     1.0    0.482894               75.0  \n\n[186097 rows x 11 columns]",
      "text/html": "<div>\n<style scoped>\n    .dataframe tbody tr th:only-of-type {\n        vertical-align: middle;\n    }\n\n    .dataframe tbody tr th {\n        vertical-align: top;\n    }\n\n    .dataframe thead th {\n        text-align: right;\n    }\n</style>\n<table border=\"1\" class=\"dataframe\">\n  <thead>\n    <tr style=\"text-align: right;\">\n      <th></th>\n      <th>Energy</th>\n      <th>Vx</th>\n      <th>Vy</th>\n      <th>Vz</th>\n      <th>Px</th>\n      <th>Py</th>\n      <th>Pz</th>\n      <th>mass</th>\n      <th>charge</th>\n      <th>std_proton</th>\n      <th>proton_photon_sum</th>\n    </tr>\n  </thead>\n  <tbody>\n    <tr>\n      <th>0</th>\n      <td>1304.340</td>\n      <td>-1.831820e-05</td>\n      <td>1.555780e-05</td>\n      <td>5.029320e-02</td>\n      <td>-0.509192</td>\n      <td>0.461106</td>\n      <td>1304.340</td>\n      <td>0.000000</td>\n      <td>0.0</td>\n      <td>0.060663</td>\n      <td>9.0</td>\n    </tr>\n    <tr>\n      <th>1</th>\n      <td>325.158</td>\n      <td>0.000000e+00</td>\n      <td>0.000000e+00</td>\n      <td>0.000000e+00</td>\n      <td>0.269915</td>\n      <td>-0.081921</td>\n      <td>325.157</td>\n      <td>139.570610</td>\n      <td>-1.0</td>\n      <td>0.020876</td>\n      <td>5.0</td>\n    </tr>\n    <tr>\n      <th>2</th>\n      <td>3192.380</td>\n      <td>0.000000e+00</td>\n      <td>0.000000e+00</td>\n      <td>0.000000e+00</td>\n      <td>0.022422</td>\n      <td>-0.182957</td>\n      <td>-3192.380</td>\n      <td>939.565413</td>\n      <td>0.0</td>\n      <td>0.071018</td>\n      <td>16.0</td>\n    </tr>\n    <tr>\n      <th>3</th>\n      <td>2082.630</td>\n      <td>0.000000e+00</td>\n      <td>0.000000e+00</td>\n      <td>0.000000e+00</td>\n      <td>-0.171176</td>\n      <td>0.281748</td>\n      <td>2082.630</td>\n      <td>938.272081</td>\n      <td>1.0</td>\n      <td>0.190404</td>\n      <td>6.0</td>\n    </tr>\n    <tr>\n      <th>4</th>\n      <td>174.401</td>\n      <td>4.998120e-06</td>\n      <td>2.304080e-06</td>\n      <td>-2.588240e-03</td>\n      <td>0.292035</td>\n      <td>0.104749</td>\n      <td>-174.400</td>\n      <td>0.000000</td>\n      <td>0.0</td>\n      <td>0.038352</td>\n      <td>14.0</td>\n    </tr>\n    <tr>\n      <th>...</th>\n      <td>...</td>\n      <td>...</td>\n      <td>...</td>\n      <td>...</td>\n      <td>...</td>\n      <td>...</td>\n      <td>...</td>\n      <td>...</td>\n      <td>...</td>\n      <td>...</td>\n      <td>...</td>\n    </tr>\n    <tr>\n      <th>186092</th>\n      <td>1775.280</td>\n      <td>-3.317000e-17</td>\n      <td>-3.109770e-18</td>\n      <td>-1.414050e-13</td>\n      <td>-0.416436</td>\n      <td>-0.039042</td>\n      <td>-1775.280</td>\n      <td>497.611000</td>\n      <td>0.0</td>\n      <td>0.023191</td>\n      <td>5.0</td>\n    </tr>\n    <tr>\n      <th>186093</th>\n      <td>4071.230</td>\n      <td>0.000000e+00</td>\n      <td>0.000000e+00</td>\n      <td>0.000000e+00</td>\n      <td>0.089305</td>\n      <td>0.069410</td>\n      <td>-4071.230</td>\n      <td>1115.683000</td>\n      <td>0.0</td>\n      <td>0.427253</td>\n      <td>1246.0</td>\n    </tr>\n    <tr>\n      <th>186094</th>\n      <td>4003.600</td>\n      <td>0.000000e+00</td>\n      <td>0.000000e+00</td>\n      <td>0.000000e+00</td>\n      <td>0.769178</td>\n      <td>-0.276743</td>\n      <td>4003.600</td>\n      <td>1115.683000</td>\n      <td>0.0</td>\n      <td>0.263543</td>\n      <td>36.0</td>\n    </tr>\n    <tr>\n      <th>186095</th>\n      <td>892.561</td>\n      <td>3.026130e-05</td>\n      <td>-2.853110e-06</td>\n      <td>1.149290e-01</td>\n      <td>0.286136</td>\n      <td>0.021616</td>\n      <td>892.561</td>\n      <td>0.000000</td>\n      <td>0.0</td>\n      <td>0.026345</td>\n      <td>9.0</td>\n    </tr>\n    <tr>\n      <th>186096</th>\n      <td>2609.470</td>\n      <td>0.000000e+00</td>\n      <td>0.000000e+00</td>\n      <td>0.000000e+00</td>\n      <td>-0.190964</td>\n      <td>0.148528</td>\n      <td>-2609.460</td>\n      <td>938.272081</td>\n      <td>1.0</td>\n      <td>0.482894</td>\n      <td>75.0</td>\n    </tr>\n  </tbody>\n</table>\n<p>186097 rows × 11 columns</p>\n</div>"
     },
     "execution_count": 7,
     "metadata": {},
     "output_type": "execute_result"
    }
   ],
   "source": [
    "data_cond"
   ],
   "metadata": {
    "collapsed": false,
    "pycharm": {
     "name": "#%%\n"
    }
   }
  },
  {
   "cell_type": "code",
   "execution_count": 2,
   "metadata": {
    "collapsed": true,
    "pycharm": {
     "name": "#%%\n"
    }
   },
   "outputs": [
    {
     "name": "stdout",
     "output_type": "stream",
     "text": [
      "Loaded positions:  (344228, 2) max: 55 min: 0\n"
     ]
    },
    {
     "ename": "ValueError",
     "evalue": "not enough values to unpack (expected 12, got 6)",
     "output_type": "error",
     "traceback": [
      "\u001B[1;31m---------------------------------------------------------------------------\u001B[0m",
      "\u001B[1;31mValueError\u001B[0m                                Traceback (most recent call last)",
      "Cell \u001B[1;32mIn[2], line 25\u001B[0m\n\u001B[0;32m     22\u001B[0m data_cond \u001B[38;5;241m=\u001B[39m data_cond\u001B[38;5;241m.\u001B[39mdrop(columns\u001B[38;5;241m=\u001B[39m\u001B[38;5;124m\"\u001B[39m\u001B[38;5;124mcond\u001B[39m\u001B[38;5;124m\"\u001B[39m)\n\u001B[0;32m     24\u001B[0m \u001B[38;5;66;03m#\u001B[39;00m\n\u001B[1;32m---> 25\u001B[0m x_train, x_test, x_train_2, x_test_2, y_train, y_test, std_train,\\\n\u001B[0;32m     26\u001B[0m std_test, intensity_train, intensity_test, positions_train, positions_test \u001B[38;5;241m=\u001B[39m train_test_split(\n\u001B[0;32m     27\u001B[0m     data, data_2, data_cond, test_size\u001B[38;5;241m=\u001B[39m\u001B[38;5;241m0.2\u001B[39m, shuffle\u001B[38;5;241m=\u001B[39m\u001B[38;5;28;01mFalse\u001B[39;00m)\n\u001B[0;32m     29\u001B[0m \u001B[38;5;28mprint\u001B[39m(\u001B[38;5;124m\"\u001B[39m\u001B[38;5;124mData shapes:\u001B[39m\u001B[38;5;124m\"\u001B[39m, x_train\u001B[38;5;241m.\u001B[39mshape, x_test\u001B[38;5;241m.\u001B[39mshape, y_train\u001B[38;5;241m.\u001B[39mshape, y_test\u001B[38;5;241m.\u001B[39mshape)\n",
      "\u001B[1;31mValueError\u001B[0m: not enough values to unpack (expected 12, got 6)"
     ]
    }
   ],
   "source": [
    "import pandas as pd\n",
    "import numpy as np\n",
    "from sklearn.model_selection import train_test_split\n",
    "\n",
    "data = pd.read_pickle('C:\\\\Users\\\\PB\\\\Documents\\\\GithubRepos\\\\Generative-Models-for-CERN-Fast-Simulations\\\\data\\\\data_proton_photonsum_proton_1_2312.pkl')\n",
    "data_cond = pd.read_pickle('C:\\\\Users\\\\PB\\\\Documents\\\\GithubRepos\\\\Generative-Models-for-CERN-Fast-Simulations\\\\data\\\\data_cond_photonsum_proton_1_2312.pkl')\n",
    "photon_sum_proton_min, photon_sum_proton_max = data_cond.proton_photon_sum.min(), data_cond.proton_photon_sum.max()\n",
    "\n",
    "# data of coordinates of maximum value of pixel on the images\n",
    "data_posi = pd.read_pickle('C:\\\\Users\\\\PB\\\\Documents\\\\GithubRepos\\\\Generative-Models-for-CERN-Fast-Simulations\\\\data\\\\data_coord_proton_photonsum_proton_1_2312.pkl')\n",
    "print('Loaded positions: ', data_posi.shape, \"max:\", data_posi.values.max(), \"min:\", data_posi.values.min())\n",
    "\n",
    "# group conditional data\n",
    "data_cond[\"cond\"] = data_cond[\"Energy\"].astype(str) +\"|\"+ data_cond[\"Vx\"].astype(str) +\"|\"+ data_cond[\"Vy\"].astype(str) +\"|\"+ data_cond[\"Vz\"].astype(str) +\"|\"+  data_cond[\"Px\"].astype(str) +\"|\"+  data_cond[\"Py\"].astype(str) +\"|\"+ data_cond[\"Pz\"].astype(str) +\"|\"+  data_cond[\"mass\"].astype(str) +\"|\"+  data_cond[\"charge\"].astype(str)\n",
    "data_cond_id = data_cond[[\"cond\"]].reset_index()\n",
    "ids = data_cond_id.merge(data_cond_id.sample(frac=1), on=[\"cond\"], how=\"inner\").groupby(\"index_x\").first()\n",
    "ids = ids[\"index_y\"]\n",
    "\n",
    "data = np.log(data + 1).astype(np.float32)\n",
    "\n",
    "data_2 = data[ids]\n",
    "data_cond = data_cond.drop(columns=\"cond\")"
   ]
  },
  {
   "cell_type": "code",
   "execution_count": 3,
   "outputs": [
    {
     "name": "stdout",
     "output_type": "stream",
     "text": [
      "Data shapes: (275382, 56, 30) (68846, 56, 30) (275382, 13) (68846, 13)\n"
     ]
    }
   ],
   "source": [
    "#\n",
    "x_train, x_test, x_train_2, x_test_2, y_train, y_test = train_test_split(\n",
    "    data, data_2, data_cond, test_size=0.2, shuffle=False)\n",
    "\n",
    "print(\"Data shapes:\", x_train.shape, x_test.shape, y_train.shape, y_test.shape)"
   ],
   "metadata": {
    "collapsed": false,
    "pycharm": {
     "name": "#%%\n"
    }
   }
  },
  {
   "cell_type": "code",
   "execution_count": 14,
   "outputs": [
    {
     "data": {
      "text/plain": "<Axes: >"
     },
     "execution_count": 14,
     "metadata": {},
     "output_type": "execute_result"
    },
    {
     "data": {
      "text/plain": "<Figure size 640x480 with 1 Axes>",
      "image/png": "[encoded data removed]"
     },
     "metadata": {},
     "output_type": "display_data"
    }
   ],
   "source": [
    "pd.Series(x_test.sum(axis=(1, 2))).hist(bins=60)"
   ],
   "metadata": {
    "collapsed": false,
    "pycharm": {
     "name": "#%%\n"
    }
   }
  }
 ],
 "metadata": {
  "kernelspec": {
   "display_name": "Python 3",
   "language": "python",
   "name": "python3"
  },
  "language_info": {
   "codemirror_mode": {
    "name": "ipython",
    "version": 2
   },
   "file_extension": ".py",
   "mimetype": "text/x-python",
   "name": "python",
   "nbconvert_exporter": "python",
   "pygments_lexer": "ipython2",
   "version": "2.7.6"
  }
 },
 "nbformat": 4,
 "nbformat_minor": 0
}