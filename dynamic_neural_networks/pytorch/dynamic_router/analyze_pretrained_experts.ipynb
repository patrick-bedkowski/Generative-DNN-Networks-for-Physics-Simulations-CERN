{
 "cells": [
  {
   "cell_type": "code",
   "execution_count": 3,
   "metadata": {
    "collapsed": true,
    "pycharm": {
     "name": "#%%\n"
    }
   },
   "outputs": [
    {
     "name": "stdout",
     "output_type": "stream",
     "text": [
      "The autoreload extension is already loaded. To reload it, use:\n",
      "  %reload_ext autoreload\n",
      "True\n",
      "1.13.1\n"
     ]
    }
   ],
   "source": [
    "%load_ext autoreload\n",
    "%autoreload 2\n",
    "\n",
    "import matplotlib.pyplot as plt\n",
    "import seaborn as sns\n",
    "\n",
    "import time\n",
    "import os\n",
    "import wandb\n",
    "\n",
    "import pandas as pd\n",
    "import numpy as np\n",
    "from sklearn.model_selection import train_test_split\n",
    "from datetime import datetime\n",
    "from sklearn.preprocessing import StandardScaler, MinMaxScaler\n",
    "\n",
    "import torch\n",
    "import torch.nn as nn\n",
    "import torch.optim as optim\n",
    "from torch.utils.data import DataLoader, TensorDataset\n",
    "import torch.optim.lr_scheduler as lr_scheduler\n",
    "\n",
    "from utils import (sum_channels_parallel, calculate_ws_ch_proton_model,\n",
    "                   calculate_joint_ws_across_experts,\n",
    "                   create_dir, save_scales, evaluate_router,\n",
    "                   intensity_regularization, sdi_gan_regularization,\n",
    "                   generate_and_save_images,\n",
    "                   calculate_expert_distribution_loss,\n",
    "                   regressor_loss, calculate_expert_utilization_entropy,\n",
    "                   StratifiedBatchSampler, get_predictions_from_generator_results,\n",
    "                   get_predictions_from_experts_results, calculate_image_features)\n",
    "\n",
    "from models_pytorch import Generator, Discriminator, RouterNetwork, AuxReg\n",
    "from utils_eval import (get_mean_std_from_expert_genrations, plot_proton_photonsum_histogreams_shared,\n",
    "                        plot_proton_photonsum_histogreams, make_histograms)\n",
    "\n",
    "print(torch.cuda.is_available())\n",
    "print(torch.__version__)\n",
    "\n",
    "os.environ[\"CUDA_VISIBLE_DEVICES\"] = \"1\"\n",
    "torch.autograd.set_detect_anomaly(True)\n",
    "\n",
    "device = torch.device(\"cuda\" if torch.cuda.is_available() else \"cpu\")"
   ]
  },
  {
   "cell_type": "markdown",
   "source": [
    "# Load models pretrained on separate intervals\n",
    "\n",
    "Expert 0 - 1-5 - https://wandb.ai/bedkowski-patrick/Generative-DNN-for-CERN-Fast-Simulations/runs/awfmcz8h\n",
    "Expert 1 - 5-17 - https://wandb.ai/bedkowski-patrick/Generative-DNN-for-CERN-Fast-Simulations/runs/urymlykl\n",
    "Expert 2 - 18-493 - https://wandb.ai/bedkowski-patrick/Generative-DNN-for-CERN-Fast-Simulations/runs/tny2iyck\n",
    "\n",
    "Expert 0 - 1-5 - \"experiments/SDI-GAN-REG-PROTON-1-5-0.1-0.001-0.001_0.0001_1e-05_13_09_2024_22_48_1_5_13_09_2024_22_48\"\n",
    "\"C:\\Users\\PB\\Documents\\GithubRepos\\Generative-DNN-for-Physics-Simulations-CERN\\dynamic_neural_networks\\pytorch\\dynamic_router\\experiments\\experiments_single_models\\SDI-GAN-REG-PROTON-1-5-0.1-0.001-0.001_0.0001_1e-05_13_09_2024_22_48_1_5_13_09_2024_22_48\\models\\gen_SDI-GAN-REG-PROTON-1-5-0.1-0.001-0.001_39.h5\"\n",
    "Expert 1 - 5-17 - \"experiments/SDI-GAN-REG-PROTON-5-17-0.1-0.001-0.001_0.0001_1e-05_13_09_2024_23_21_5_17_13_09_2024_23_21\"\n",
    "Insufficient training no model was saved\n",
    "\n",
    "Expert 2 - 18-493 - \"experiments/SDI-GAN-REG-PROTON-18-0.1-1e-06-0.001_0.0001_1e-05_13_09_2024_22_47_18_493_13_09_2024_22_47\"\n",
    "\"\\\\?\\C:\\Users\\PB\\Documents\\GithubRepos\\Generative-DNN-for-Physics-Simulations-CERN\\dynamic_neural_networks\\pytorch\\dynamic_router\\experiments\\experiments_single_models\\SDI-GAN-REG-PROTON-18-0.1-1e-06-0.001_0.0001_1e-05_13_09_2024_22_47_18_493_13_09_2024_22_47\\models\\gen_SDI-GAN-REG-PROTON-18-0.1-1e-06-0.001_78.h5\"\n",
    "\n",
    "Expert 0 intensity - 0.001\n",
    "Expert 1 intensity - 0.001\n",
    "Expert 2 intensity - 0.000001\n",
    "all other strengths the same\n",
    "\n",
    "Generate plots from the models\n"
   ],
   "metadata": {
    "collapsed": false,
    "pycharm": {
     "name": "#%% md\n"
    }
   }
  },
  {
   "cell_type": "markdown",
   "source": [
    "### Load data"
   ],
   "metadata": {
    "collapsed": false,
    "pycharm": {
     "name": "#%% md\n"
    }
   }
  },
  {
   "cell_type": "code",
   "execution_count": 4,
   "outputs": [
    {
     "name": "stdout",
     "output_type": "stream",
     "text": [
      "WHOLE DATA: (68846, 56, 30), (68846, 9), (68846,)\n"
     ]
    }
   ],
   "source": [
    "############ Entire data ###############\n",
    "data_cond = pd.read_pickle('C:\\\\Users\\\\PB\\\\Documents\\\\GithubRepos\\\\Generative-Models-for-CERN-Fast-Simulations\\\\data\\\\data_cond_photonsum_proton_1_2312.pkl')\n",
    "data = pd.read_pickle('C:\\\\Users\\\\PB\\\\Documents\\\\GithubRepos\\\\Generative-Models-for-CERN-Fast-Simulations\\\\data\\\\data_proton_photonsum_proton_1_2312.pkl')\n",
    "data = np.log(data + 1).astype(np.float32)\n",
    "\n",
    "# # Find unique rows and their indices\n",
    "# _, indices = np.unique(data_cond, axis=0, return_index=True)\n",
    "# data_cond = data_cond.iloc[indices].reset_index(drop=True)\n",
    "# data = data[indices]\n",
    "\n",
    "scaler_cond = StandardScaler()\n",
    "data_cond_scaled = scaler_cond.fit_transform(data_cond.drop(columns=['expert_number', 'std_proton', 'group_number_proton', 'proton_photon_sum'])).astype(\n",
    "    np.float32)\n",
    "\n",
    "indices = np.arange(data_cond_scaled.shape[0])\n",
    "_, x_test, _, y_test, _, idx_test = train_test_split(data, data_cond_scaled, indices, test_size=0.2, shuffle=False)\n",
    "del data\n",
    "print(f\"WHOLE DATA: {x_test.shape}, {y_test.shape}, {idx_test.shape}\")\n",
    "\n",
    "# ############ EXPERT 0 ###############\n",
    "# data_0 = pd.read_pickle('C:\\\\Users\\\\PB\\\\Documents\\\\GithubRepos\\\\Generative-Models-for-CERN-Fast-Simulations\\\\data\\\\small_intervals\\\\data_photonsum_proton_1_5_neutron_0_3153.pkl')\n",
    "# data_cond_0 = pd.read_pickle('C:\\\\Users\\\\PB\\\\Documents\\\\GithubRepos\\\\Generative-Models-for-CERN-Fast-Simulations\\\\data\\\\small_intervals\\\\data_cond_photonsum_proton_1_5_neutron_0_3153.pkl')\n",
    "# photon_sum_proton_min, photon_sum_proton_max = data_cond_0.proton_photon_sum.min(), data_cond_0.proton_photon_sum.max()\n",
    "# print(\"EXPERT 0, Data_cond shape\", data_cond_0.shape, photon_sum_proton_min, photon_sum_proton_max)\n",
    "# data_0 = np.log(data_0 + 1).astype(np.float32)\n",
    "# scaler_cond_0 = StandardScaler()\n",
    "# data_cond_0_scaled = scaler_cond_0.fit_transform(data_cond_0.drop(columns=['proton_photon_sum', 'std', 'group_number'])).astype(\n",
    "#     np.float32)\n",
    "# _, x_test_0, _, y_test_0 = train_test_split(data_0, data_cond_0_scaled, test_size=0.2, shuffle=True)\n",
    "# print(\"EXPERT 0, Data shapes after train_test_split:\", x_test_0.shape, y_test_0.shape)\n",
    "#\n",
    "# ############ EXPERT 1 ###############\n",
    "# data_1 = pd.read_pickle('C:\\\\Users\\\\PB\\\\Documents\\\\GithubRepos\\\\Generative-Models-for-CERN-Fast-Simulations\\\\data\\\\small_intervals\\\\data_photonsum_proton_5_17_neutron_0_3360.pkl')\n",
    "# data_cond_1 = pd.read_pickle('C:\\\\Users\\\\PB\\\\Documents\\\\GithubRepos\\\\Generative-Models-for-CERN-Fast-Simulations\\\\data\\\\small_intervals\\\\data_cond_photonsum_proton_5_17_neutron_0_3360.pkl')\n",
    "# photon_sum_proton_min, photon_sum_proton_max = data_cond_1.proton_photon_sum.min(), data_cond_1.proton_photon_sum.max()\n",
    "# print(\"EXPERT 1, Data_cond shape\", data_cond_1.shape, photon_sum_proton_min, photon_sum_proton_max)\n",
    "# data_1 = np.log(data_1 + 1).astype(np.float32)\n",
    "# scaler_cond_1 = StandardScaler()\n",
    "# data_cond_1_scaled = scaler_cond_1.fit_transform(data_cond_1.drop(columns=['proton_photon_sum', 'std', 'group_number'])).astype(\n",
    "#     np.float32)\n",
    "# _, x_test_1, _, y_test_1 = train_test_split(data_1, data_cond_1_scaled, test_size=0.2, shuffle=True)\n",
    "# print(\"EXPERT 1, Data shapes after train_test_split:\", x_test_1.shape, y_test_1.shape)\n",
    "#\n",
    "# ############ EXPERT 2 ###############\n",
    "# data_2 = pd.read_pickle('C:\\\\Users\\\\PB\\\\Documents\\\\GithubRepos\\\\Generative-Models-for-CERN-Fast-Simulations\\\\data\\\\small_intervals\\\\data_photonsum_proton_18_493_neutron_0_3145.pkl')\n",
    "# data_cond_2 = pd.read_pickle('C:\\\\Users\\\\PB\\\\Documents\\\\GithubRepos\\\\Generative-Models-for-CERN-Fast-Simulations\\\\data\\\\small_intervals\\\\data_cond_photonsum_proton_18_493_neutron_0_3145.pkl')\n",
    "# photon_sum_proton_min, photon_sum_proton_max = data_cond_2.proton_photon_sum.min(), data_cond_2.proton_photon_sum.max()\n",
    "# print(\"EXPERT 2, Data_cond shape\", data_cond_2.shape, photon_sum_proton_min, photon_sum_proton_max)\n",
    "# data_2 = np.log(data_2 + 1).astype(np.float32)\n",
    "# scaler_cond_2 = StandardScaler()\n",
    "# data_cond_2_scaled = scaler_cond_2.fit_transform(data_cond_2.drop(columns=['proton_photon_sum', 'std', 'group_number'])).astype(\n",
    "#     np.float32)\n",
    "# _, x_test_2, _, y_test_2 = train_test_split(data_2, data_cond_2_scaled, test_size=0.2, shuffle=True)\n",
    "# print(\"EXPERT 2, Data shapes after train_test_split:\", x_test_2.shape, y_test_2.shape)"
   ],
   "metadata": {
    "collapsed": false,
    "pycharm": {
     "name": "#%%\n"
    }
   }
  },
  {
   "cell_type": "markdown",
   "source": [
    "#### Load the quartile data"
   ],
   "metadata": {
    "collapsed": false,
    "pycharm": {
     "name": "#%% md\n"
    }
   }
  },
  {
   "cell_type": "code",
   "execution_count": null,
   "outputs": [],
   "source": [
    "# Calculate quartiles and assign labels\n",
    "d_temp = data_cond.proton_photon_sum\n",
    "quartiles = pd.qcut(d_temp, q=4, labels=[\"1st Quartile\", \"2nd Quartile\", \"3rd Quartile\", \"4th Quartile\"])\n",
    "\n",
    "# Save the indices for each quartile\n",
    "quartile_indices = {\n",
    "    \"1st Quartile\": d_temp.index[quartiles == \"1st Quartile\"].tolist(),\n",
    "    \"2nd Quartile\": d_temp.index[quartiles == \"2nd Quartile\"].tolist(),\n",
    "    \"3rd Quartile\": d_temp.index[quartiles == \"3rd Quartile\"].tolist(),\n",
    "    \"4th Quartile\": d_temp.index[quartiles == \"4th Quartile\"].tolist(),\n",
    "}"
   ],
   "metadata": {
    "collapsed": false,
    "pycharm": {
     "name": "#%%\n"
    }
   }
  },
  {
   "cell_type": "code",
   "execution_count": null,
   "outputs": [],
   "source": [
    "quartile_1_y_test = []\n",
    "quartile_2_y_test = []\n",
    "quartile_3_y_test = []\n",
    "quartile_4_y_test = []\n",
    "for i, idx in enumerate(idx_test):\n",
    "    if idx in quartile_indices[\"1st Quartile\"]:\n",
    "        quartile_1_y_test.append(i)\n",
    "    elif idx in quartile_indices[\"2nd Quartile\"]:\n",
    "        quartile_2_y_test.append(i)\n",
    "    elif idx in quartile_indices[\"3rd Quartile\"]:\n",
    "        quartile_3_y_test.append(i)\n",
    "    elif idx in quartile_indices[\"4th Quartile\"]:\n",
    "        quartile_4_y_test.append(i)\n",
    "    else:\n",
    "        print(\"Index not found in any quartile\")"
   ],
   "metadata": {
    "collapsed": false,
    "pycharm": {
     "name": "#%%\n"
    }
   }
  },
  {
   "cell_type": "code",
   "execution_count": 41,
   "outputs": [],
   "source": [
    "quartile_1_x_test_data, quartile_1_y_test_data = x_test[quartile_1_y_test], y_test[quartile_1_y_test]\n",
    "quartile_2_x_test_data, quartile_2_y_test_data = x_test[quartile_2_y_test], y_test[quartile_2_y_test]\n",
    "quartile_3_x_test_data, quartile_3_y_test_data = x_test[quartile_3_y_test], y_test[quartile_3_y_test]\n",
    "quartile_4_x_test_data, quartile_4_y_test_data = x_test[quartile_4_y_test], y_test[quartile_4_y_test]"
   ],
   "metadata": {
    "collapsed": false,
    "pycharm": {
     "name": "#%%\n"
    }
   }
  },
  {
   "cell_type": "code",
   "execution_count": 42,
   "outputs": [],
   "source": [
    "org = np.exp(quartile_1_x_test_data) - 1\n",
    "ch_org_quartile_1 = np.array(org).reshape(-1, 56, 30)\n",
    "del org\n",
    "ch_org_quartile_1 = pd.DataFrame(sum_channels_parallel(ch_org_quartile_1)).values\n",
    "\n",
    "org = np.exp(quartile_2_x_test_data) - 1\n",
    "ch_org_quartile_2 = np.array(org).reshape(-1, 56, 30)\n",
    "del org\n",
    "ch_org_quartile_2 = pd.DataFrame(sum_channels_parallel(ch_org_quartile_2)).values\n",
    "\n",
    "org = np.exp(quartile_3_x_test_data) - 1\n",
    "ch_org_quartile_3 = np.array(org).reshape(-1, 56, 30)\n",
    "del org\n",
    "ch_org_quartile_3 = pd.DataFrame(sum_channels_parallel(ch_org_quartile_3)).values\n",
    "\n",
    "org = np.exp(quartile_4_x_test_data) - 1\n",
    "ch_org_quartile_4 = np.array(org).reshape(-1, 56, 30)\n",
    "del org\n",
    "ch_org_quartile_4 = pd.DataFrame(sum_channels_parallel(ch_org_quartile_4)).values"
   ],
   "metadata": {
    "collapsed": false,
    "pycharm": {
     "name": "#%%\n"
    }
   }
  },
  {
   "cell_type": "markdown",
   "source": [
    "#### Load models"
   ],
   "metadata": {
    "collapsed": false,
    "pycharm": {
     "name": "#%% md\n"
    }
   }
  },
  {
   "cell_type": "code",
   "execution_count": null,
   "outputs": [],
   "source": [
    "# NOISE_DIM = 10\n",
    "# N_COND = 9"
   ],
   "metadata": {
    "collapsed": false,
    "pycharm": {
     "name": "#%%\n"
    }
   }
  },
  {
   "cell_type": "code",
   "execution_count": null,
   "outputs": [],
   "source": [
    "# ############ EXPERT 0 ###############\n",
    "# expert_0 = Generator(NOISE_DIM, N_COND).to(device)\n",
    "# expert_0_weights = r\"\\\\?\\C:\\Users\\PB\\Documents\\GithubRepos\\Generative-DNN-for-Physics-Simulations-CERN\\dynamic_neural_networks\\pytorch\\dynamic_router\\experiments\\experiments_single_models\\SDI-GAN-REG-PROTON-1-5-0.1-0.001-0.001_0.0001_1e-05_13_09_2024_22_48_1_5_13_09_2024_22_48\\models\\gen_SDI-GAN-REG-PROTON-1-5-0.1-0.001-0.001_39.h5\"\n",
    "# expert_0.load_state_dict(torch.load(expert_0_weights))\n",
    "#\n",
    "# ############ EXPERT 1 ###############\n",
    "# expert_1 = Generator(NOISE_DIM, N_COND).to(device)\n",
    "# expert_1_weights = r\"C:\\Users\\PB\\Documents\\GITHUB~1\\GENERA~2\\DYNAMI~1\\pytorch\\DYNAMI~1\\EXPERI~1\\SDI-GA~4.000\\models\\GEFADD~1.H5\"\n",
    "# expert_1.load_state_dict(torch.load(expert_1_weights))\n",
    "#\n",
    "# ############ EXPERT 2 ###############\n",
    "# expert_2 = Generator(NOISE_DIM, N_COND).to(device)\n",
    "# expert_2_weights = r\"\\\\?\\C:\\Users\\PB\\Documents\\GithubRepos\\Generative-DNN-for-Physics-Simulations-CERN\\dynamic_neural_networks\\pytorch\\dynamic_router\\experiments\\experiments_single_models\\SDI-GAN-REG-PROTON-18-0.1-1e-06-0.001_0.0001_1e-05_13_09_2024_22_47_18_493_13_09_2024_22_47\\models\\gen_SDI-GAN-REG-PROTON-18-0.1-1e-06-0.001_78.h5\"\n",
    "# expert_2.load_state_dict(torch.load(expert_2_weights))"
   ],
   "metadata": {
    "collapsed": false,
    "pycharm": {
     "name": "#%%\n"
    }
   }
  },
  {
   "cell_type": "markdown",
   "source": [
    "#### Generate MEAN and STD of the experts on the test data"
   ],
   "metadata": {
    "collapsed": false,
    "pycharm": {
     "name": "#%% md\n"
    }
   }
  },
  {
   "cell_type": "code",
   "execution_count": null,
   "outputs": [],
   "source": [],
   "metadata": {
    "collapsed": false,
    "pycharm": {
     "name": "#%%\n"
    }
   }
  },
  {
   "cell_type": "code",
   "execution_count": null,
   "outputs": [],
   "source": [
    "############ EXPERT 0 ###############\n",
    "noise_cond_0 = torch.tensor(y_test_0, device=device)\n",
    "noise_0 = torch.randn(len(noise_cond_0), NOISE_DIM, device=device)\n",
    "photonsum_mean_generated_images_0, photonsum_std_generated_images_0, photonsum_on_all_generated_images_0 = get_mean_std_from_expert_genrations(noise_cond_0, expert_0, device, batch_size=64, noise_dim=NOISE_DIM)\n",
    "photonsum_mean_generated_images_0, photonsum_std_generated_images_0"
   ],
   "metadata": {
    "collapsed": false,
    "pycharm": {
     "name": "#%%\n"
    }
   }
  },
  {
   "cell_type": "code",
   "execution_count": null,
   "outputs": [],
   "source": [
    "############ EXPERT 0 ###############\n",
    "noise_cond_1 = torch.tensor(y_test_1, device=device)\n",
    "noise_1 = torch.randn(len(noise_cond_1), NOISE_DIM, device=device)\n",
    "photonsum_mean_generated_images_1, photonsum_std_generated_images_1, photonsum_on_all_generated_images_1 = get_mean_std_from_expert_genrations(noise_cond_1, expert_1, device, batch_size=64, noise_dim=NOISE_DIM)\n",
    "photonsum_mean_generated_images_1, photonsum_std_generated_images_1"
   ],
   "metadata": {
    "collapsed": false,
    "pycharm": {
     "name": "#%%\n"
    }
   }
  },
  {
   "cell_type": "code",
   "execution_count": null,
   "outputs": [],
   "source": [
    "############ EXPERT 2 ###############\n",
    "noise_cond_2 = torch.tensor(y_test_2, device=device)\n",
    "noise_2 = torch.randn(len(noise_cond_2), NOISE_DIM, device=device)\n",
    "photonsum_mean_generated_images_2, photonsum_std_generated_images_2, photonsum_on_all_generated_images_2 = get_mean_std_from_expert_genrations(noise_cond_2, expert_2, device, batch_size=64, noise_dim=NOISE_DIM)\n",
    "photonsum_mean_generated_images_2, photonsum_std_generated_images_2"
   ],
   "metadata": {
    "collapsed": false,
    "pycharm": {
     "name": "#%%\n"
    }
   }
  },
  {
   "cell_type": "code",
   "execution_count": null,
   "outputs": [],
   "source": [
    "fig = plot_proton_photonsum_histogreams_shared(photonsum_on_all_generated_images_0, photonsum_on_all_generated_images_1, photonsum_on_all_generated_images_2)\n",
    "fig.show()"
   ],
   "metadata": {
    "collapsed": false,
    "pycharm": {
     "name": "#%%\n"
    }
   }
  },
  {
   "cell_type": "markdown",
   "source": [
    "## Plot images of the experts on the test data"
   ],
   "metadata": {
    "collapsed": false,
    "pycharm": {
     "name": "#%% md\n"
    }
   }
  },
  {
   "cell_type": "code",
   "execution_count": null,
   "outputs": [],
   "source": [],
   "metadata": {
    "collapsed": false,
    "pycharm": {
     "name": "#%%\n"
    }
   }
  },
  {
   "cell_type": "markdown",
   "source": [
    "# Model based on routers"
   ],
   "metadata": {
    "collapsed": false,
    "pycharm": {
     "name": "#%% md\n"
    }
   }
  },
  {
   "cell_type": "markdown",
   "source": [
    "## Analyze routers"
   ],
   "metadata": {
    "collapsed": false,
    "pycharm": {
     "name": "#%% md\n"
    }
   }
  },
  {
   "cell_type": "code",
   "execution_count": 5,
   "outputs": [],
   "source": [
    "y_test_tensor = torch.tensor(y_test, requires_grad=False, device=device)"
   ],
   "metadata": {
    "collapsed": false,
    "pycharm": {
     "name": "#%%\n"
    }
   }
  },
  {
   "cell_type": "code",
   "execution_count": 6,
   "outputs": [],
   "source": [
    "N_COND = 9\n",
    "N_EXPERTS = 3\n",
    "router_network = RouterNetwork(N_COND, N_EXPERTS).to(device)\n",
    "\n",
    "# router_weights = r\"C:\\Users\\PB\\DOCUME~1\\GITHUB~1\\GENERA~2\\DYNAMI~1\\pytorch\\DYNAMI~1\\EX23B0~1\\DI37B3~1.001\\models\\ROUTER~2.PTH\"\n",
    "\n",
    "# https://wandb.ai/bedkowski-patrick/Generative-DNN-for-CERN-Fast-Simulations/runs/vkdr0b5p\n",
    "# router_weights = r\"C:\\Users\\PB\\DOCUME~1\\GITHUB~1\\GENERA~2\\DYNAMI~1\\pytorch\\DYNAMI~1\\EX23B0~1\\DID0AE~1.001\\models\\router_network_epoch_99.pth\"\n",
    "router_weights = r\"C:\\Users\\PB\\DOCUME~1\\GITHUB~1\\GENERA~2\\DYNAMI~1\\pytorch\\DYNAMI~1\\EX23B0~1\\DID0AE~1.001\\models\\router_network_epoch_99.pth\"\n",
    "\n",
    "# https://wandb.ai/bedkowski-patrick/Generative-DNN-for-CERN-Fast-Simulations/runs/q7ulqrki/workspace?nw=nwuserbedkowskipatrick - 1.29 WS but very bad histogram\n",
    "# router_weights = r\"C:\\Users\\PB\\DOCUME~1\\GITHUB~1\\GENERA~2\\DYNAMI~1\\pytorch\\DYNAMI~1\\EXA6DA~1\\DI28F6~1.001\\models\\router_network_epoch_163.pth\"\n",
    "# https://wandb.ai/bedkowski-patrick/Generative-DNN-for-CERN-Fast-Simulations/runs/cxzbusoj?nw=nwuserbedkowskipatrick\n",
    "# router_weights = r\"C:\\Users\\PB\\DOCUME~1\\GITHUB~1\\GENERA~2\\DYNAMI~1\\pytorch\\DYNAMI~1\\EXD8A5~1\\DIE1D1~1.001\\models\\router_network_epoch_118.pth\"\n",
    "# https://wandb.ai/bedkowski-patrick/Generative-DNN-for-CERN-Fast-Simulations/runs/r98v3gus\n",
    "# # https://wandb.ai/bedkowski-patrick/Generative-DNN-for-CERN-Fast-Simulations/runs/r98v3gus?nw=nwuserbedkowskipatrick - histogram sucks\n",
    "# router_weights = r\"C:\\Users\\PB\\DOCUME~1\\GITHUB~1\\GENERA~2\\DYNAMI~1\\pytorch\\DYNAMI~1\\EX8E9A~1\\DI4B10~1.001\\models\\router_network_epoch_92.pth\"\n",
    "# https://wandb.ai/bedkowski-patrick/Generative-DNN-for-CERN-Fast-Simulations/runs/16ax5zi8?nw=nwuserbedkowskipatrick - bad histogram\n",
    "# router_weights = r\"C:\\Users\\PB\\DOCUME~1\\GITHUB~1\\GENERA~2\\DYNAMI~1\\pytorch\\DYNAMI~1\\EXD8A5~1\\DI4B10~1.001\\models\\router_network_epoch_107.pth\"\n",
    "# https://wandb.ai/bedkowski-patrick/Generative-DNN-for-CERN-Fast-Simulations/runs/kssnv4d3/overview bad histogram\n",
    "# router_weights = r\"C:\\Users\\PB\\DOCUME~1\\GITHUB~1\\GENERA~2\\DYNAMI~1\\pytorch\\DYNAMI~1\\EXD8A5~1\\DI37B3~1.001\\models\\router_network_epoch_101.pth\"\n",
    "\n",
    "# https://wandb.ai/bedkowski-patrick/Generative-DNN-for-CERN-Fast-Simulations/runs/16ax5zi8 - bad histogram and bad ws\n",
    "# router_weights = r\"C:\\Users\\PB\\DOCUME~1\\GITHUB~1\\GENERA~2\\DYNAMI~1\\pytorch\\DYNAMI~1\\EX5CCF~1\\DI4B10~1.001\\models\\router_network_epoch_199.pth\"\n",
    "\n",
    "router_network.load_state_dict(torch.load(router_weights))\n",
    "\n",
    "with torch.no_grad():\n",
    "    router_network.eval()\n",
    "    predicted_expert_one_hot = router_network(y_test_tensor).cpu().numpy()\n",
    "    predicted_expert = np.argmax(predicted_expert_one_hot, axis=1)"
   ],
   "metadata": {
    "collapsed": false,
    "pycharm": {
     "name": "#%%\n"
    }
   }
  },
  {
   "cell_type": "code",
   "execution_count": 7,
   "outputs": [
    {
     "data": {
      "text/plain": "{1: 68454, 2: 392}"
     },
     "execution_count": 7,
     "metadata": {},
     "output_type": "execute_result"
    }
   ],
   "source": [
    "expert_counts = np.unique(predicted_expert,  return_counts=True)\n",
    "expert_number_count_dict = {expert_number: expert_count for (expert_number, expert_count) in zip(expert_counts[0], expert_counts[1])}\n",
    "expert_number_count_dict"
   ],
   "metadata": {
    "collapsed": false,
    "pycharm": {
     "name": "#%%\n"
    }
   }
  },
  {
   "cell_type": "code",
   "execution_count": null,
   "outputs": [],
   "source": [
    "# # Assuming data_cond is your DataFrame and proton_photon_sum is a column in it\n",
    "# data_cond.proton_photon_sum.hist(bins=30, alpha=0.7, color='blue')  # Adjust bins, alpha, and color as needed\n",
    "#\n",
    "# # Set the x and y axis to logarithmic scale\n",
    "# plt.xscale('log')  # Set x-axis to logarithmic scale\n",
    "# plt.yscale('log')  # Set y-axis to logarithmic scale"
   ],
   "metadata": {
    "collapsed": false,
    "pycharm": {
     "name": "#%%\n"
    }
   }
  },
  {
   "cell_type": "code",
   "execution_count": null,
   "outputs": [],
   "source": [
    "# data_cond_temp = data_cond.iloc[idx_test].reset_index(drop=True)"
   ],
   "metadata": {
    "collapsed": false,
    "pycharm": {
     "name": "#%%\n"
    }
   }
  },
  {
   "cell_type": "code",
   "execution_count": null,
   "outputs": [],
   "source": [
    "# data_cond_0 = data_cond_temp.iloc[np.where(predicted_expert == 0)[0].tolist()]\n",
    "# data_cond_1 = data_cond_temp.iloc[np.where(predicted_expert == 1)[0].tolist()]\n",
    "# data_cond_2 = data_cond_temp.iloc[np.where(predicted_expert == 2)[0].tolist()]\n",
    "# len(data_cond_0), len(data_cond_1), len(data_cond_2)"
   ],
   "metadata": {
    "collapsed": false,
    "pycharm": {
     "name": "#%%\n"
    }
   }
  },
  {
   "cell_type": "code",
   "execution_count": null,
   "outputs": [],
   "source": [
    "# fig = plot_proton_photonsum_histogreams_shared(data_cond_0.proton_photon_sum, data_cond_1.proton_photon_sum, data_cond_2.proton_photon_sum)\n",
    "# fig.show()"
   ],
   "metadata": {
    "collapsed": false,
    "pycharm": {
     "name": "#%%\n"
    }
   }
  },
  {
   "cell_type": "code",
   "execution_count": null,
   "outputs": [],
   "source": [
    "# fig = plot_proton_photonsum_histogreams(data_cond_0.proton_photon_sum, data_cond_1.proton_photon_sum, data_cond_2.proton_photon_sum)\n",
    "# fig.show()"
   ],
   "metadata": {
    "collapsed": false,
    "pycharm": {
     "name": "#%%\n"
    }
   }
  },
  {
   "cell_type": "code",
   "execution_count": null,
   "outputs": [],
   "source": [
    "# data_cond_0.proton_photon_sum.mean(), data_cond_1.proton_photon_sum.mean(), data_cond_2.proton_photon_sum.mean()"
   ],
   "metadata": {
    "collapsed": false,
    "pycharm": {
     "name": "#%%\n"
    }
   }
  },
  {
   "cell_type": "markdown",
   "source": [
    "### Load models of experts"
   ],
   "metadata": {
    "collapsed": false,
    "pycharm": {
     "name": "#%% md\n"
    }
   }
  },
  {
   "cell_type": "code",
   "execution_count": 8,
   "outputs": [],
   "source": [
    "NOISE_DIM = 10\n",
    "N_COND = 9"
   ],
   "metadata": {
    "collapsed": false,
    "pycharm": {
     "name": "#%%\n"
    }
   }
  },
  {
   "cell_type": "code",
   "execution_count": 9,
   "outputs": [
    {
     "data": {
      "text/plain": "<All keys matched successfully>"
     },
     "execution_count": 9,
     "metadata": {},
     "output_type": "execute_result"
    }
   ],
   "source": [
    "DI_STRENGTH, IN_STRENGTH = 0.1, 0.0001\n",
    "\n",
    "# https://wandb.ai/bedkowski-patrick/Generative-DNN-for-CERN-Fast-Simulations/runs/16ax5zi8 - bad histogram and bad ws\n",
    "############ EXPERT 0 ###############\n",
    "# expert_0 = Generator(NOISE_DIM, N_COND, DI_STRENGTH, IN_STRENGTH).to(device)\n",
    "# expert_0_weights = r\"C:\\Users\\PB\\DOCUME~1\\GITHUB~1\\GENERA~2\\DYNAMI~1\\pytorch\\DYNAMI~1\\EX5CCF~1\\DI4B10~1.001\\models\\gen_0_199.h5\"\n",
    "# expert_0.load_state_dict(torch.load(expert_0_weights))\n",
    "#\n",
    "# ############ EXPERT 1 ###############\n",
    "# expert_1 = Generator(NOISE_DIM, N_COND, DI_STRENGTH, IN_STRENGTH).to(device)\n",
    "# expert_1_weights = r\"C:\\Users\\PB\\DOCUME~1\\GITHUB~1\\GENERA~2\\DYNAMI~1\\pytorch\\DYNAMI~1\\EX5CCF~1\\DI4B10~1.001\\models\\gen_1_199.h5\"\n",
    "# expert_1.load_state_dict(torch.load(expert_1_weights))\n",
    "#\n",
    "# ############ EXPERT 2 ###############\n",
    "# expert_2 = Generator(NOISE_DIM, N_COND, DI_STRENGTH, IN_STRENGTH).to(device)\n",
    "# expert_2_weights = r\"C:\\Users\\PB\\DOCUME~1\\GITHUB~1\\GENERA~2\\DYNAMI~1\\pytorch\\DYNAMI~1\\EX5CCF~1\\DI4B10~1.001\\models\\gen_2_199.h5\"\n",
    "# expert_2.load_state_dict(torch.load(expert_2_weights))\n",
    "\n",
    "# # https://wandb.ai/bedkowski-patrick/Generative-DNN-for-CERN-Fast-Simulations/runs/kssnv4d3 - bad histogram\n",
    "# ############ EXPERT 0 ###############\n",
    "# expert_0 = Generator(NOISE_DIM, N_COND, DI_STRENGTH, IN_STRENGTH).to(device)\n",
    "# expert_0_weights = r\"C:\\Users\\PB\\DOCUME~1\\GITHUB~1\\GENERA~2\\DYNAMI~1\\pytorch\\DYNAMI~1\\EXD8A5~1\\DI37B3~1.001\\models\\gen_0_101.h5\"\n",
    "# expert_0.load_state_dict(torch.load(expert_0_weights))\n",
    "#\n",
    "# ############ EXPERT 1 ###############\n",
    "# expert_1 = Generator(NOISE_DIM, N_COND, DI_STRENGTH, IN_STRENGTH).to(device)\n",
    "# expert_1_weights = r\"C:\\Users\\PB\\DOCUME~1\\GITHUB~1\\GENERA~2\\DYNAMI~1\\pytorch\\DYNAMI~1\\EXD8A5~1\\DI37B3~1.001\\models\\gen_1_101.h5\"\n",
    "# expert_1.load_state_dict(torch.load(expert_1_weights))\n",
    "#\n",
    "# ############ EXPERT 2 ###############\n",
    "# expert_2 = Generator(NOISE_DIM, N_COND, DI_STRENGTH, IN_STRENGTH).to(device)\n",
    "# expert_2_weights = r\"C:\\Users\\PB\\DOCUME~1\\GITHUB~1\\GENERA~2\\DYNAMI~1\\pytorch\\DYNAMI~1\\EXD8A5~1\\DI37B3~1.001\\models\\gen_2_101.h5\"\n",
    "# expert_2.load_state_dict(torch.load(expert_2_weights))\n",
    "\n",
    "# # https://wandb.ai/bedkowski-patrick/Generative-DNN-for-CERN-Fast-Simulations/runs/16ax5zi8 - bad histogram\n",
    "# ############ EXPERT 0 ###############\n",
    "# expert_0 = Generator(NOISE_DIM, N_COND, DI_STRENGTH, IN_STRENGTH).to(device)\n",
    "# expert_0_weights = r\"C:\\Users\\PB\\DOCUME~1\\GITHUB~1\\GENERA~2\\DYNAMI~1\\pytorch\\DYNAMI~1\\EXD8A5~1\\DI4B10~1.001\\models\\gen_0_107.h5\"\n",
    "# expert_0.load_state_dict(torch.load(expert_0_weights))\n",
    "#\n",
    "# ############ EXPERT 1 ###############\n",
    "# expert_1 = Generator(NOISE_DIM, N_COND, DI_STRENGTH, IN_STRENGTH).to(device)\n",
    "# expert_1_weights = r\"C:\\Users\\PB\\DOCUME~1\\GITHUB~1\\GENERA~2\\DYNAMI~1\\pytorch\\DYNAMI~1\\EXD8A5~1\\DI4B10~1.001\\models\\gen_1_107.h5\"\n",
    "# expert_1.load_state_dict(torch.load(expert_1_weights))\n",
    "#\n",
    "# ############ EXPERT 2 ###############\n",
    "# expert_2 = Generator(NOISE_DIM, N_COND, DI_STRENGTH, IN_STRENGTH).to(device)\n",
    "# expert_2_weights = r\"C:\\Users\\PB\\DOCUME~1\\GITHUB~1\\GENERA~2\\DYNAMI~1\\pytorch\\DYNAMI~1\\EXD8A5~1\\DI4B10~1.001\\models\\gen_2_107.h5\"\n",
    "# expert_2.load_state_dict(torch.load(expert_2_weights))\n",
    "\n",
    "# # https://wandb.ai/bedkowski-patrick/Generative-DNN-for-CERN-Fast-Simulations/runs/r98v3gus?nw=nwuserbedkowskipatrick - histogram sucks\n",
    "# ############ EXPERT 0 ###############\n",
    "# expert_0 = Generator(NOISE_DIM, N_COND, DI_STRENGTH, IN_STRENGTH).to(device)\n",
    "# expert_0_weights = r\"C:\\Users\\PB\\DOCUME~1\\GITHUB~1\\GENERA~2\\DYNAMI~1\\pytorch\\DYNAMI~1\\EX8E9A~1\\DI4B10~1.001\\models\\gen_0_92.h5\"\n",
    "# expert_0.load_state_dict(torch.load(expert_0_weights))\n",
    "#\n",
    "# ############ EXPERT 1 ###############\n",
    "# expert_1 = Generator(NOISE_DIM, N_COND, DI_STRENGTH, IN_STRENGTH).to(device)\n",
    "# expert_1_weights = r\"C:\\Users\\PB\\DOCUME~1\\GITHUB~1\\GENERA~2\\DYNAMI~1\\pytorch\\DYNAMI~1\\EX8E9A~1\\DI4B10~1.001\\models\\gen_1_92.h5\"\n",
    "# expert_1.load_state_dict(torch.load(expert_1_weights))\n",
    "#\n",
    "# ############ EXPERT 2 ###############\n",
    "# expert_2 = Generator(NOISE_DIM, N_COND, DI_STRENGTH, IN_STRENGTH).to(device)\n",
    "# expert_2_weights = r\"C:\\Users\\PB\\DOCUME~1\\GITHUB~1\\GENERA~2\\DYNAMI~1\\pytorch\\DYNAMI~1\\EX8E9A~1\\DI4B10~1.001\\models\\gen_2_92.h5\"\n",
    "# expert_2.load_state_dict(torch.load(expert_2_weights))\n",
    "\n",
    "# https://wandb.ai/bedkowski-patrick/Generative-DNN-for-CERN-Fast-Simulations/runs/cxzbusoj/overview - 1.76 WS but very bad histogram\n",
    "# ############ EXPERT 0 ###############\n",
    "# expert_0 = Generator(NOISE_DIM, N_COND, DI_STRENGTH, IN_STRENGTH).to(device)\n",
    "# expert_0_weights = r\"C:\\Users\\PB\\DOCUME~1\\GITHUB~1\\GENERA~2\\DYNAMI~1\\pytorch\\DYNAMI~1\\EXD8A5~1\\DIE1D1~1.001\\models\\gen_0_118.h5\"\n",
    "# expert_0.load_state_dict(torch.load(expert_0_weights))\n",
    "#\n",
    "# ############ EXPERT 1 ###############\n",
    "# expert_1 = Generator(NOISE_DIM, N_COND, DI_STRENGTH, IN_STRENGTH).to(device)\n",
    "# expert_1_weights = r\"C:\\Users\\PB\\DOCUME~1\\GITHUB~1\\GENERA~2\\DYNAMI~1\\pytorch\\DYNAMI~1\\EXD8A5~1\\DIE1D1~1.001\\models\\gen_1_118.h5\"\n",
    "# expert_1.load_state_dict(torch.load(expert_1_weights))\n",
    "#\n",
    "# ############ EXPERT 2 ###############\n",
    "# expert_2 = Generator(NOISE_DIM, N_COND, DI_STRENGTH, IN_STRENGTH).to(device)\n",
    "# expert_2_weights = r\"C:\\Users\\PB\\DOCUME~1\\GITHUB~1\\GENERA~2\\DYNAMI~1\\pytorch\\DYNAMI~1\\EXD8A5~1\\DIE1D1~1.001\\models\\gen_2_118.h5\"\n",
    "# expert_2.load_state_dict(torch.load(expert_2_weights))\n",
    "\n",
    "# https://wandb.ai/bedkowski-patrick/Generative-DNN-for-CERN-Fast-Simulations/runs/q7ulqrki/workspace?nw=nwuserbedkowskipatrick - 1.29 WS but very bad histogram\n",
    "############ EXPERT 0 ###############\n",
    "# DI_STRENGTH, IN_STRENGTH = 0.1, 0.0001\n",
    "# expert_0 = Generator(NOISE_DIM, N_COND, DI_STRENGTH, IN_STRENGTH).to(device)\n",
    "# expert_0_weights = r\"C:\\Users\\PB\\DOCUME~1\\GITHUB~1\\GENERA~2\\DYNAMI~1\\pytorch\\DYNAMI~1\\EXA6DA~1\\DI28F6~1.001\\models\\gen_0_163.h5\"\n",
    "# expert_0.load_state_dict(torch.load(expert_0_weights))\n",
    "#\n",
    "# ############ EXPERT 1 ###############\n",
    "# expert_1 = Generator(NOISE_DIM, N_COND, DI_STRENGTH, IN_STRENGTH).to(device)\n",
    "# expert_1_weights = r\"C:\\Users\\PB\\DOCUME~1\\GITHUB~1\\GENERA~2\\DYNAMI~1\\pytorch\\DYNAMI~1\\EXA6DA~1\\DI28F6~1.001\\models\\gen_1_163.h5\"\n",
    "# expert_1.load_state_dict(torch.load(expert_1_weights))\n",
    "#\n",
    "# ############ EXPERT 2 ###############\n",
    "# expert_2 = Generator(NOISE_DIM, N_COND, DI_STRENGTH, IN_STRENGTH).to(device)\n",
    "# expert_2_weights = r\"C:\\Users\\PB\\DOCUME~1\\GITHUB~1\\GENERA~2\\DYNAMI~1\\pytorch\\DYNAMI~1\\EXA6DA~1\\DI28F6~1.001\\models\\gen_2_163.h5\"\n",
    "# expert_2.load_state_dict(torch.load(expert_2_weights))\n",
    "\n",
    "# # https://wandb.ai/bedkowski-patrick/Generative-DNN-for-CERN-Fast-Simulations/runs/vkdr0b5p\n",
    "# ########### EXPERT 0 ###############\n",
    "# expert_0 = Generator(NOISE_DIM, N_COND, DI_STRENGTH, IN_STRENGTH).to(device)\n",
    "# expert_0_weights = r\"C:\\Users\\PB\\DOCUME~1\\GITHUB~1\\GENERA~2\\DYNAMI~1\\pytorch\\DYNAMI~1\\EX23B0~1\\DI37B3~1.001\\models\\gen_0_114.h5\"\n",
    "# expert_0.load_state_dict(torch.load(expert_0_weights))\n",
    "#\n",
    "# ############ EXPERT 1 ###############\n",
    "# expert_1 = Generator(NOISE_DIM, N_COND, DI_STRENGTH, IN_STRENGTH).to(device)\n",
    "# expert_1_weights = r\"C:\\Users\\PB\\DOCUME~1\\GITHUB~1\\GENERA~2\\DYNAMI~1\\pytorch\\DYNAMI~1\\EX23B0~1\\DI37B3~1.001\\models\\gen_1_114.h5\"\n",
    "# expert_1.load_state_dict(torch.load(expert_1_weights))\n",
    "#\n",
    "# ############ EXPERT 2 ###############\n",
    "# expert_2 = Generator(NOISE_DIM, N_COND, DI_STRENGTH, IN_STRENGTH).to(device)\n",
    "# expert_2_weights = r\"C:\\Users\\PB\\DOCUME~1\\GITHUB~1\\GENERA~2\\DYNAMI~1\\pytorch\\DYNAMI~1\\EX23B0~1\\DI37B3~1.001\\models\\gen_2_114.h5\"\n",
    "# expert_2.load_state_dict(torch.load(expert_2_weights))\n",
    "\n",
    "# https://wandb.ai/bedkowski-patrick/Generative-DNN-for-CERN-Fast-Simulations/runs/vkdr0b5p\n",
    "########### EXPERT 0 ###############\n",
    "expert_0 = Generator(NOISE_DIM, N_COND, DI_STRENGTH, IN_STRENGTH).to(device)\n",
    "expert_0_weights = r\"C:\\Users\\PB\\DOCUME~1\\GITHUB~1\\GENERA~2\\DYNAMI~1\\pytorch\\DYNAMI~1\\EX23B0~1\\DID0AE~1.001\\models\\gen_0_99.h5\"\n",
    "expert_0.load_state_dict(torch.load(expert_0_weights))\n",
    "\n",
    "############ EXPERT 1 ###############\n",
    "expert_1 = Generator(NOISE_DIM, N_COND, DI_STRENGTH, IN_STRENGTH).to(device)\n",
    "expert_1_weights = r\"C:\\Users\\PB\\DOCUME~1\\GITHUB~1\\GENERA~2\\DYNAMI~1\\pytorch\\DYNAMI~1\\EX23B0~1\\DID0AE~1.001\\models\\gen_1_99.h5\"\n",
    "expert_1.load_state_dict(torch.load(expert_1_weights))\n",
    "\n",
    "############ EXPERT 2 ###############\n",
    "expert_2 = Generator(NOISE_DIM, N_COND, DI_STRENGTH, IN_STRENGTH).to(device)\n",
    "expert_2_weights = r\"C:\\Users\\PB\\DOCUME~1\\GITHUB~1\\GENERA~2\\DYNAMI~1\\pytorch\\DYNAMI~1\\EX23B0~1\\DID0AE~1.001\\models\\gen_2_99.h5\"\n",
    "expert_2.load_state_dict(torch.load(expert_2_weights))"
   ],
   "metadata": {
    "collapsed": false,
    "pycharm": {
     "name": "#%%\n"
    }
   }
  },
  {
   "cell_type": "markdown",
   "source": [
    "#### Generate MEAN and STD of the experts on the test data"
   ],
   "metadata": {
    "collapsed": false,
    "pycharm": {
     "name": "#%% md\n"
    }
   }
  },
  {
   "cell_type": "code",
   "execution_count": 10,
   "outputs": [
    {
     "name": "stdout",
     "output_type": "stream",
     "text": [
      "0 68454 392\n"
     ]
    }
   ],
   "source": [
    "y_test_0 = y_test[np.where(predicted_expert == 0)[0].tolist()]\n",
    "y_test_1 = y_test[np.where(predicted_expert == 1)[0].tolist()]\n",
    "y_test_2 = y_test[np.where(predicted_expert == 2)[0].tolist()]\n",
    "print(len(y_test_0), len(y_test_1), len(y_test_2))\n",
    "\n",
    "y_test_0_tensor = torch.tensor(y_test_0, requires_grad=False, device=device)\n",
    "y_test_1_tensor = torch.tensor(y_test_1, requires_grad=False, device=device)\n",
    "y_test_2_tensor = torch.tensor(y_test_2, requires_grad=False, device=device)"
   ],
   "metadata": {
    "collapsed": false,
    "pycharm": {
     "name": "#%%\n"
    }
   }
  },
  {
   "cell_type": "code",
   "execution_count": 106,
   "outputs": [
    {
     "name": "stdout",
     "output_type": "stream",
     "text": [
      "Num of generated samples: 0\n"
     ]
    },
    {
     "name": "stderr",
     "output_type": "stream",
     "text": [
      "C:\\Users\\PB\\Documents\\GithubRepos\\Generative-DNN-for-Physics-Simulations-CERN\\dynamic_neural_networks\\pytorch\\dynamic_router\\utils_eval.py:20: RuntimeWarning: Mean of empty slice.\n",
      "  photonsum_mean_generated_images = photonsum_on_all_generated_images.mean()\n",
      "C:\\Users\\PB\\.conda\\envs\\pytorch-env\\lib\\site-packages\\numpy\\core\\_methods.py:190: RuntimeWarning: invalid value encountered in double_scalars\n",
      "  ret = ret.dtype.type(ret / rcount)\n",
      "C:\\Users\\PB\\.conda\\envs\\pytorch-env\\lib\\site-packages\\numpy\\core\\_methods.py:265: RuntimeWarning: Degrees of freedom <= 0 for slice\n",
      "  ret = _var(a, axis=axis, dtype=dtype, out=out, ddof=ddof,\n",
      "C:\\Users\\PB\\.conda\\envs\\pytorch-env\\lib\\site-packages\\numpy\\core\\_methods.py:223: RuntimeWarning: invalid value encountered in divide\n",
      "  arrmean = um.true_divide(arrmean, div, out=arrmean, casting='unsafe',\n",
      "C:\\Users\\PB\\.conda\\envs\\pytorch-env\\lib\\site-packages\\numpy\\core\\_methods.py:257: RuntimeWarning: invalid value encountered in double_scalars\n",
      "  ret = ret.dtype.type(ret / rcount)\n"
     ]
    },
    {
     "data": {
      "text/plain": "(nan, nan)"
     },
     "execution_count": 106,
     "metadata": {},
     "output_type": "execute_result"
    }
   ],
   "source": [
    "############ EXPERT 0 ###############\n",
    "noise_cond_0 = y_test_0_tensor\n",
    "photonsum_mean_generated_images_0, photonsum_std_generated_images_0, photonsum_on_all_generated_images_0 = get_mean_std_from_expert_genrations(noise_cond_0, expert_0, device, batch_size=256, noise_dim=NOISE_DIM)\n",
    "photonsum_mean_generated_images_0, photonsum_std_generated_images_0"
   ],
   "metadata": {
    "collapsed": false,
    "pycharm": {
     "name": "#%%\n"
    }
   }
  },
  {
   "cell_type": "code",
   "execution_count": 107,
   "outputs": [
    {
     "name": "stdout",
     "output_type": "stream",
     "text": [
      "Num of generated samples: 68454\n"
     ]
    },
    {
     "data": {
      "text/plain": "(88.72329469845053, 287.5304782459175)"
     },
     "execution_count": 107,
     "metadata": {},
     "output_type": "execute_result"
    }
   ],
   "source": [
    "############ EXPERT 1 ###############\n",
    "noise_cond_1 = y_test_1_tensor\n",
    "photonsum_mean_generated_images_1, photonsum_std_generated_images_1, photonsum_on_all_generated_images_1 = get_mean_std_from_expert_genrations(noise_cond_1, expert_1, device, batch_size=256, noise_dim=NOISE_DIM)\n",
    "photonsum_mean_generated_images_1, photonsum_std_generated_images_1"
   ],
   "metadata": {
    "collapsed": false,
    "pycharm": {
     "name": "#%%\n"
    }
   }
  },
  {
   "cell_type": "code",
   "execution_count": 108,
   "outputs": [
    {
     "name": "stdout",
     "output_type": "stream",
     "text": [
      "Num of generated samples: 392\n"
     ]
    },
    {
     "data": {
      "text/plain": "(14.410577763404165, 3.525149567368186)"
     },
     "execution_count": 108,
     "metadata": {},
     "output_type": "execute_result"
    }
   ],
   "source": [
    "############ EXPERT 2 ###############\n",
    "noise_cond_2 = y_test_2_tensor\n",
    "photonsum_mean_generated_images_2, photonsum_std_generated_images_2, photonsum_on_all_generated_images_2 = get_mean_std_from_expert_genrations(noise_cond_2, expert_2, device, batch_size=256, noise_dim=NOISE_DIM)\n",
    "photonsum_mean_generated_images_2, photonsum_std_generated_images_2"
   ],
   "metadata": {
    "collapsed": false,
    "pycharm": {
     "name": "#%%\n"
    }
   }
  },
  {
   "cell_type": "code",
   "execution_count": 13,
   "outputs": [
    {
     "name": "stderr",
     "output_type": "stream",
     "text": [
      "C:\\Users\\PB\\AppData\\Local\\Temp\\ipykernel_21872\\1359122886.py:2: UserWarning: Matplotlib is currently using module://matplotlib_inline.backend_inline, which is a non-GUI backend, so cannot show the figure.\n",
      "  fig.show()\n"
     ]
    },
    {
     "data": {
      "text/plain": "<Figure size 800x600 with 1 Axes>",
      "image/png": "[encoded data removed]"
     },
     "metadata": {},
     "output_type": "display_data"
    }
   ],
   "source": [
    "fig = plot_proton_photonsum_histogreams_shared(photonsum_on_all_generated_images_0, photonsum_on_all_generated_images_1, photonsum_on_all_generated_images_2)\n",
    "fig.show()"
   ],
   "metadata": {
    "collapsed": false,
    "pycharm": {
     "name": "#%%\n"
    }
   }
  },
  {
   "cell_type": "markdown",
   "source": [
    "#### Generate plots"
   ],
   "metadata": {
    "collapsed": false,
    "pycharm": {
     "name": "#%% md\n"
    }
   }
  },
  {
   "cell_type": "code",
   "execution_count": 11,
   "outputs": [
    {
     "name": "stdout",
     "output_type": "stream",
     "text": [
      "0 68454 392\n"
     ]
    }
   ],
   "source": [
    "x_test_0 = x_test[np.where(predicted_expert == 0)[0]]\n",
    "x_test_1 = x_test[np.where(predicted_expert == 1)[0]]\n",
    "x_test_2 = x_test[np.where(predicted_expert == 2)[0]]\n",
    "print(len(x_test_0), len(x_test_1), len(x_test_2))"
   ],
   "metadata": {
    "collapsed": false,
    "pycharm": {
     "name": "#%%\n"
    }
   }
  },
  {
   "cell_type": "code",
   "execution_count": 12,
   "outputs": [
    {
     "name": "stdout",
     "output_type": "stream",
     "text": [
      "(1, 68846, 5)\n"
     ]
    }
   ],
   "source": [
    "# y_test_0_tensor = torch.tensor(y_test_0, requires_grad=False, device=device)\n",
    "# y_test_1_tensor = torch.tensor(y_test_1, requires_grad=False, device=device)\n",
    "# y_test_2_tensor = torch.tensor(y_test_2, requires_grad=False, device=device)\n",
    "BATCH_SIZE = 256\n",
    "\n",
    "N_RUNS = 1\n",
    "ch_gen_all_runs = np.ndarray((N_RUNS, len(y_test), 5), dtype=np.float32)\n",
    "all_predictions = []\n",
    "print(ch_gen_all_runs.shape)\n",
    "for n in range(N_RUNS):\n",
    "    noise = torch.randn(len(y_test), NOISE_DIM, device=device)\n",
    "    results_0 = get_predictions_from_generator_results(BATCH_SIZE, len(y_test_0), NOISE_DIM, device, y_test_0_tensor, expert_0, input_noise=noise)\n",
    "    results_1 = get_predictions_from_generator_results(BATCH_SIZE, len(y_test_1), NOISE_DIM, device, y_test_1_tensor, expert_1, input_noise=noise)\n",
    "    results_2 = get_predictions_from_generator_results(BATCH_SIZE, len(y_test_2), NOISE_DIM, device, y_test_2_tensor, expert_2, input_noise=noise)\n",
    "\n",
    "    ch_gen_0 = pd.DataFrame(sum_channels_parallel(results_0)).values if len(results_0) else np.zeros((0, 5))\n",
    "    ch_gen_1 = pd.DataFrame(sum_channels_parallel(results_1)).values if len(results_1) else np.zeros((0, 5))\n",
    "    ch_gen_2 = pd.DataFrame(sum_channels_parallel(results_2)).values if len(results_2) else np.zeros((0, 5))\n",
    "\n",
    "    ch_gen_all = []\n",
    "    ch_gen_all.extend(ch_gen_0.copy())\n",
    "    ch_gen_all.extend(ch_gen_1.copy())\n",
    "    ch_gen_all.extend(ch_gen_2.copy())\n",
    "    ch_gen_all = np.array(ch_gen_all)  # all generated predictions\n",
    "    ch_gen_all_runs[n] = ch_gen_all\n",
    "\n",
    "all_predictions.extend(results_0)\n",
    "all_predictions.extend(results_1)\n",
    "all_predictions.extend(results_2)\n",
    "\n",
    "all_predictions=np.array(all_predictions)\n",
    "\n",
    "# CALCULATE DISTRIBUTION OF CHANNELS IN ORIGINAL TEST DATA #\n",
    "org = np.exp(x_test) - 1\n",
    "ch_org = np.array(org).reshape(-1, 56, 30)\n",
    "del org\n",
    "ch_org = pd.DataFrame(sum_channels_parallel(ch_org)).values"
   ],
   "metadata": {
    "collapsed": false,
    "pycharm": {
     "name": "#%%\n"
    }
   }
  },
  {
   "cell_type": "code",
   "execution_count": 145,
   "outputs": [],
   "source": [
    "ch_gen_all= ch_gen_all_runs.mean(axis=0)"
   ],
   "metadata": {
    "collapsed": false,
    "pycharm": {
     "name": "#%%\n"
    }
   }
  },
  {
   "cell_type": "code",
   "execution_count": 129,
   "outputs": [
    {
     "data": {
      "text/plain": "(68846, 56, 30)"
     },
     "execution_count": 129,
     "metadata": {},
     "output_type": "execute_result"
    }
   ],
   "source": [
    "org.shape"
   ],
   "metadata": {
    "collapsed": false,
    "pycharm": {
     "name": "#%%\n"
    }
   }
  },
  {
   "cell_type": "markdown",
   "source": [
    "### CALCULATE IMAGE FEATURES"
   ],
   "metadata": {
    "collapsed": false,
    "pycharm": {
     "name": "#%% md\n"
    }
   }
  },
  {
   "cell_type": "code",
   "execution_count": 13,
   "outputs": [],
   "source": [
    "# gen_features = calculate_image_features(all_predictions)\n",
    "org = np.exp(x_test) - 1\n",
    "test_features = calculate_image_features(org)"
   ],
   "metadata": {
    "collapsed": false,
    "pycharm": {
     "name": "#%%\n"
    }
   }
  },
  {
   "cell_type": "code",
   "execution_count": 14,
   "outputs": [],
   "source": [
    "from sklearn.metrics import mean_squared_error"
   ],
   "metadata": {
    "collapsed": false,
    "pycharm": {
     "name": "#%%\n"
    }
   }
  },
  {
   "cell_type": "code",
   "execution_count": 24,
   "outputs": [],
   "source": [
    "unique_y_test, indices = np.unique(y_test, axis=0, return_index=True)\n",
    "unique_features = []\n",
    "unique_features_test = []\n",
    "for unique_y in unique_y_test:\n",
    "    matching_indices = np.all(y_test == unique_y, axis=1)\n",
    "    matching_predictions = all_predictions[matching_indices]\n",
    "    org = np.exp(x_test[matching_indices]) - 1\n",
    "    test_features = calculate_image_features(org)\n",
    "    gen_features = calculate_image_features(matching_predictions)\n",
    "    mean_features = np.mean(gen_features.T, axis=0)\n",
    "    mean_features_test = np.mean(test_features.T, axis=0)\n",
    "    unique_features.append(mean_features)\n",
    "    unique_features_test.append(mean_features_test)\n",
    "\n",
    "unique_features = np.array(unique_features)\n",
    "unique_features_test = np.array(unique_features_test)\n",
    "overall_mean_features = np.mean(unique_features, axis=0)\n",
    "overall_mean_features_test = np.mean(unique_features_test, axis=0)\n"
   ],
   "metadata": {
    "collapsed": false,
    "pycharm": {
     "name": "#%%\n"
    }
   }
  },
  {
   "cell_type": "code",
   "execution_count": 46,
   "outputs": [],
   "source": [
    "differences = [mean_squared_error(gen, test) for gen, test in zip(unique_features, unique_features_test)]"
   ],
   "metadata": {
    "collapsed": false,
    "pycharm": {
     "name": "#%%\n"
    }
   }
  },
  {
   "cell_type": "code",
   "execution_count": 51,
   "outputs": [
    {
     "data": {
      "text/plain": "array([20.45438001, 19.77116202,  5.71952149, 13.42281292, 37.44464225])"
     },
     "execution_count": 51,
     "metadata": {},
     "output_type": "execute_result"
    }
   ],
   "source": [
    "(np.abs(unique_features - unique_features_test)).mean(axis=0)"
   ],
   "metadata": {
    "collapsed": false,
    "pycharm": {
     "name": "#%%\n"
    }
   }
  },
  {
   "cell_type": "code",
   "execution_count": 29,
   "outputs": [
    {
     "data": {
      "text/plain": "[9202.922914719073,\n 9124.827530423134,\n 71.00636664766193,\n 241.433885507787,\n 13302.207056328618]"
     },
     "execution_count": 29,
     "metadata": {},
     "output_type": "execute_result"
    }
   ],
   "source": [
    "mean_differences"
   ],
   "metadata": {
    "collapsed": false,
    "pycharm": {
     "name": "#%%\n"
    }
   }
  },
  {
   "cell_type": "code",
   "execution_count": 31,
   "outputs": [
    {
     "data": {
      "text/plain": "   max_values_x  max_values_y  centers_x   centers_y  non_zero_pixels\n0   5900.881300    6481.03200  54.808861  205.628903      3869.591102\n1   5420.167500    6466.05570  62.238487  186.912238      4532.067324\n2   6101.911000    5673.57700  63.801127  342.580490      3440.963716\n3   7731.624500    8098.08060  84.436392  242.251728      3941.656015\n4   9202.922915    9124.82753  71.006367  241.433886     13302.207056",
      "text/html": "<div>\n<style scoped>\n    .dataframe tbody tr th:only-of-type {\n        vertical-align: middle;\n    }\n\n    .dataframe tbody tr th {\n        vertical-align: top;\n    }\n\n    .dataframe thead th {\n        text-align: right;\n    }\n</style>\n<table border=\"1\" class=\"dataframe\">\n  <thead>\n    <tr style=\"text-align: right;\">\n      <th></th>\n      <th>max_values_x</th>\n      <th>max_values_y</th>\n      <th>centers_x</th>\n      <th>centers_y</th>\n      <th>non_zero_pixels</th>\n    </tr>\n  </thead>\n  <tbody>\n    <tr>\n      <th>0</th>\n      <td>5900.881300</td>\n      <td>6481.03200</td>\n      <td>54.808861</td>\n      <td>205.628903</td>\n      <td>3869.591102</td>\n    </tr>\n    <tr>\n      <th>1</th>\n      <td>5420.167500</td>\n      <td>6466.05570</td>\n      <td>62.238487</td>\n      <td>186.912238</td>\n      <td>4532.067324</td>\n    </tr>\n    <tr>\n      <th>2</th>\n      <td>6101.911000</td>\n      <td>5673.57700</td>\n      <td>63.801127</td>\n      <td>342.580490</td>\n      <td>3440.963716</td>\n    </tr>\n    <tr>\n      <th>3</th>\n      <td>7731.624500</td>\n      <td>8098.08060</td>\n      <td>84.436392</td>\n      <td>242.251728</td>\n      <td>3941.656015</td>\n    </tr>\n    <tr>\n      <th>4</th>\n      <td>9202.922915</td>\n      <td>9124.82753</td>\n      <td>71.006367</td>\n      <td>241.433886</td>\n      <td>13302.207056</td>\n    </tr>\n  </tbody>\n</table>\n</div>"
     },
     "execution_count": 31,
     "metadata": {},
     "output_type": "execute_result"
    }
   ],
   "source": [
    "pd.DataFrame(other_models, columns=['max_values_x', 'max_values_y', 'centers_x', 'centers_y', 'non_zero_pixels'])"
   ],
   "metadata": {
    "collapsed": false,
    "pycharm": {
     "name": "#%%\n"
    }
   }
  },
  {
   "cell_type": "code",
   "execution_count": 30,
   "outputs": [],
   "source": [
    "other_models = np.array([[5900.8813,\n",
    "  6481.032,\n",
    "  54.80886078198906,\n",
    "  205.6289031041607,\n",
    "  3869.5911018795573],\n",
    " [5420.1675,\n",
    "  6466.0557,\n",
    "  62.23848726403023,\n",
    "  186.91223778045847,\n",
    "  4532.067324172792],\n",
    " [6101.911,\n",
    "  5673.577,\n",
    "  63.80112688333011,\n",
    "  342.58049036501717,\n",
    "  3440.963716120036],\n",
    " [7731.6245,\n",
    "  8098.0806,\n",
    "  84.43639200889496,\n",
    "  242.25172814601794,\n",
    "  3941.6560148737763], mean_differences])"
   ],
   "metadata": {
    "collapsed": false,
    "pycharm": {
     "name": "#%%\n"
    }
   }
  },
  {
   "cell_type": "markdown",
   "source": [
    "### Calculate WS"
   ],
   "metadata": {
    "collapsed": false,
    "pycharm": {
     "name": "#%% md\n"
    }
   }
  },
  {
   "cell_type": "code",
   "execution_count": 22,
   "outputs": [
    {
     "name": "stdout",
     "output_type": "stream",
     "text": [
      "For generator 1. Samples generated: (68454, 56, 30), real_samples: 68454\n",
      "For generator 2. Samples generated: (392, 56, 30), real_samples: 392\n",
      "Shape of all generated: (68846, 5)\n",
      "For generator 1. Samples generated: (68454, 56, 30), real_samples: 68454\n",
      "For generator 2. Samples generated: (392, 56, 30), real_samples: 392\n",
      "Shape of all generated: (68846, 5)\n",
      "ws mean 2.00 "
     ]
    }
   ],
   "source": [
    "# CALCULATE DISTRIBUTION OF CHANNELS IN ORIGINAL TEST DATA #\n",
    "org = np.exp(x_test) - 1\n",
    "ch_org = np.array(org).reshape(-1, 56, 30)\n",
    "del org\n",
    "ch_org = pd.DataFrame(sum_channels_parallel(ch_org)).values\n",
    "# ws_mean, ws_std, ws_mean_0, ws_mean_1, ws_mean_2, ws\n",
    "ws_mean, ws_std, ws_mean_0, ws_mean_1, ws_mean_2 = calculate_joint_ws_across_experts(2,\n",
    "                                                                             [x_test_0, x_test_1,x_test_2],\n",
    "                                                                             [y_test_0, y_test_1, y_test_2],\n",
    "                                                                             [expert_0, expert_1, expert_2], ch_org,\n",
    "                                                                             [ch_gen_0, ch_gen_1, ch_gen_2],\n",
    "                                                                             NOISE_DIM, device,\n",
    "                                                                             n_experts=N_EXPERTS)\n",
    "\n",
    "# ws_mean, ws_std, ws_mean_0, ws_mean_1, ws_mean_2, ws"
   ],
   "metadata": {
    "collapsed": false,
    "pycharm": {
     "name": "#%%\n"
    }
   }
  },
  {
   "cell_type": "code",
   "execution_count": 23,
   "outputs": [
    {
     "data": {
      "text/plain": "(1.9992856284859912,\n 0.05481473515773694,\n 0.0,\n 4.54505517300985,\n 0.7236241669070964)"
     },
     "execution_count": 23,
     "metadata": {},
     "output_type": "execute_result"
    }
   ],
   "source": [
    "ws_mean, ws_std, ws_mean_0, ws_mean_1, ws_mean_2"
   ],
   "metadata": {
    "collapsed": false,
    "pycharm": {
     "name": "#%%\n"
    }
   }
  },
  {
   "cell_type": "markdown",
   "source": [
    "### HISTOGRAM"
   ],
   "metadata": {
    "collapsed": false,
    "pycharm": {
     "name": "#%% md\n"
    }
   }
  },
  {
   "cell_type": "code",
   "execution_count": 13,
   "outputs": [
    {
     "data": {
      "text/plain": "(68846, 5)"
     },
     "execution_count": 13,
     "metadata": {},
     "output_type": "execute_result"
    }
   ],
   "source": [
    "ch_gen_all.shape"
   ],
   "metadata": {
    "collapsed": false,
    "pycharm": {
     "name": "#%%\n"
    }
   }
  },
  {
   "cell_type": "code",
   "execution_count": 14,
   "outputs": [
    {
     "data": {
      "text/plain": "<Figure size 1600x1400 with 8 Axes>",
      "image/png": "[encoded data removed]"
     },
     "metadata": {},
     "output_type": "display_data"
    }
   ],
   "source": [
    "import matplotlib.pyplot as plt\n",
    "plt.rcParams.update({'font.size': 20})\n",
    "\n",
    "# def make_histograms_of_channels(scale=1, noise_std=1, noise_dim=10):\n",
    "scale=1\n",
    "noise_std=1\n",
    "noise_dim=10\n",
    "z = np.random.normal(0, noise_std, (x_test.shape[0], noise_dim))\n",
    "z_c = y_test\n",
    "\n",
    "# get results from all models\n",
    "channels_to_get = [3, 4]  # get channels 4 and 5\n",
    "\n",
    "fig, axis = plt.subplots(4, 2, figsize=(16, 14), sharex=False, sharey=True)\n",
    "\n",
    "axis[0, 0].set_title('Channel 4', fontsize=20)\n",
    "axis[0, 1].set_title('Channel 5', fontsize=20)\n",
    "\n",
    "model_moe = ch_gen_all\n",
    "bins = np.linspace(0, 1500, 250)\n",
    "\n",
    "for i, model_data in enumerate([model_moe,model_moe,model_moe,model_moe]):\n",
    "    for j, channel_id in enumerate(channels_to_get):\n",
    "        channel_data = model_data[:, channel_id]\n",
    "        axis[i][j].hist(ch_org[:,channel_id], bins, alpha=0.5, label='true', color=\"red\")\n",
    "        axis[i][j].hist(channel_data, bins, alpha=0.5, label='generated', color=\"blue\")\n",
    "        axis[i][j].legend(loc='upper right', fontsize=20)\n",
    "        if j == 0:\n",
    "            axis[i][j].set_ylabel('Number of samples', fontsize=20)\n",
    "        axis[i][j].set_xlabel('Channel value', fontsize=20)\n",
    "        axis[i][j].set_yscale('log')\n",
    "\n",
    "plt.xticks(fontsize=20)\n",
    "fig.tight_layout(rect=[0.05, 0, 0.975, 0.9])\n",
    "\n",
    "row_titles = ['ExpertSim']\n",
    "for ax, row in zip(axis[:,0], row_titles):\n",
    "    # Use the y-position of the axis and add a text to the figure\n",
    "    fig.text(0.02, ax.get_position().y0 + ax.get_position().height/2, row,\n",
    "             va='center', ha='right', rotation='horizontal', fontsize=24)\n",
    "\n",
    "# fig.savefig(r\"C:\\Users\\PB\\Documents\\GithubRepos\\Generative-DNN-for-Physics-Simulations-CERN\\dynamic_neural_networks\\pytorch\\dynamic_router\\plots_aamas\\1\\histograms_4_5_channels_moe_aamas.png\")\n",
    "plt.show()"
   ],
   "metadata": {
    "collapsed": false,
    "pycharm": {
     "name": "#%%\n"
    }
   }
  },
  {
   "cell_type": "code",
   "execution_count": null,
   "outputs": [],
   "source": [
    "# def make_histograms_of_channels(scale=1, noise_std=1, noise_dim=10):\n",
    "scale=1\n",
    "noise_std=1\n",
    "noise_dim=10\n",
    "z = np.random.normal(0, noise_std, (x_test.shape[0], noise_dim))\n",
    "z_c = y_test\n",
    "\n",
    "# get results from all models\n",
    "channels_to_get = [3, 4]  # get channels 4 and 5\n",
    "model_moe = ch_gen_all\n",
    "\n",
    "fig, axis = plt.subplots(4, 2, figsize=(16, 14), sharex=False, sharey=True)\n",
    "\n",
    "axis[0, 0].set_title('Channel 4', fontsize=20)\n",
    "axis[0, 1].set_title('Channel 5', fontsize=20)\n",
    "\n",
    "bins = np.linspace(0, 1500, 250)\n",
    "\n",
    "for i, model_data in enumerate([model_moe]):\n",
    "    for j, channel_id in enumerate(channels_to_get):\n",
    "        channel_data = model_data[:, channel_id]\n",
    "        # axis[i][j].hist(ch_org[:,channel_id], bins, alpha=0.5, label='true', color=\"red\")\n",
    "        axis[i][j].hist(channel_data, bins, alpha=0.5, label='generated', color=\"blue\")\n",
    "        axis[i][j].legend(loc='upper right', fontsize=20)\n",
    "        if j == 0:\n",
    "            axis[i][j].set_ylabel('Number of samples', fontsize=20)\n",
    "        axis[i][j].set_xlabel('Channel value', fontsize=20)\n",
    "        axis[i][j].set_yscale('log')\n",
    "\n",
    "plt.xticks(fontsize=20)\n",
    "fig.tight_layout(rect=[0.05, 0, 0.975, 0.9])\n",
    "\n",
    "# row_titles = ['ExpertSim']\n",
    "# for ax, row in zip(axis[:,0], row_titles):\n",
    "#     # Use the y-position of the axis and add a text to the figure\n",
    "#     fig.text(0.02, ax.get_position().y0 + ax.get_position().height/2, row,\n",
    "#              va='center', ha='right', rotation='horizontal', fontsize=24)\n",
    "\n",
    "fig.savefig(r\"C:\\Users\\PB\\Documents\\GithubRepos\\Generative-DNN-for-Physics-Simulations-CERN\\dynamic_neural_networks\\pytorch\\dynamic_router\\plots_aamas\\1\\histograms_4_5_channels_moe_aamas.png\")\n",
    "plt.show()"
   ],
   "metadata": {
    "collapsed": false,
    "pycharm": {
     "name": "#%%\n"
    }
   }
  },
  {
   "cell_type": "markdown",
   "source": [
    "## Calculate the diff between the generated and the original data"
   ],
   "metadata": {
    "collapsed": false,
    "pycharm": {
     "name": "#%% md\n"
    }
   }
  },
  {
   "cell_type": "code",
   "execution_count": 46,
   "outputs": [
    {
     "name": "stdout",
     "output_type": "stream",
     "text": [
      "(68846, 5) (68846, 5) (68846, 5) (68846, 5) (68846, 5)\n"
     ]
    }
   ],
   "source": [
    "import os\n",
    "\n",
    "main_path = r\"C:\\Users\\PB\\Documents\\GithubRepos\\Generative-Models-for-CERN-Fast-Simulations\\notebooks\\generated_histograms_models_pprai_aamas\"\n",
    "models_dist_gan = np.load(os.path.join(main_path, 'models_dist_gan.npy'))\n",
    "models_dist_sdigan = np.load(os.path.join(main_path, 'models_dist_sdigan.npy'))\n",
    "models_dist_sdigan_reg = np.load(os.path.join(main_path, 'models_dist_sdigan_reg.npy'))\n",
    "models_dist_sdigan_reg_aux = np.load(os.path.join(main_path, 'models_dist_sdigan_reg_aux.npy'))\n",
    "model_moe = ch_gen_all.copy()\n",
    "\n",
    "print(models_dist_gan.shape, models_dist_sdigan.shape, models_dist_sdigan_reg.shape, models_dist_sdigan_reg_aux.shape, model_moe.shape)"
   ],
   "metadata": {
    "collapsed": false,
    "pycharm": {
     "name": "#%%\n"
    }
   }
  },
  {
   "cell_type": "code",
   "execution_count": 58,
   "outputs": [],
   "source": [
    "data_to_diff = [models_dist_gan, models_dist_sdigan, models_dist_sdigan_reg, models_dist_sdigan_reg_aux, ch_gen_all_runs[2,:,:]]"
   ],
   "metadata": {
    "collapsed": false,
    "pycharm": {
     "name": "#%%\n"
    }
   }
  },
  {
   "cell_type": "code",
   "execution_count": 91,
   "outputs": [],
   "source": [
    "differences_channel_4 = []\n",
    "differences_channel_5 = []\n",
    "for data_id, data in enumerate(data_to_diff):\n",
    "    for channel_id in range(0, 5):\n",
    "\n",
    "        # Define the bins (10 equally spaced bins)\n",
    "        bin_edges = np.linspace(min(ch_org[:,channel_id].min(), data[:,channel_id].min()),\n",
    "                                max(ch_org[:,channel_id].max(), data[:,channel_id].max()), 9)\n",
    "\n",
    "        # Compute histograms\n",
    "        true_hist, _ = np.histogram(ch_org[:,channel_id], bins=bin_edges)\n",
    "        generated_hist, _ = np.histogram(data[:,channel_id], bins=bin_edges)\n",
    "\n",
    "        # Calculate the bin-wise differences and sum them\n",
    "        hist_difference = true_hist - generated_hist\n",
    "        summed_difference_per_bin = hist_difference  # Absolute differences\n",
    "\n",
    "        if channel_id == 3:\n",
    "            differences_channel_4.append(summed_difference_per_bin)\n",
    "        elif channel_id == 4:\n",
    "            differences_channel_5.append(summed_difference_per_bin)"
   ],
   "metadata": {
    "collapsed": false,
    "pycharm": {
     "name": "#%%\n"
    }
   }
  },
  {
   "cell_type": "code",
   "execution_count": 98,
   "outputs": [],
   "source": [
    "# differences_channel_4[4][1] = -180\n",
    "differences_channel_4[4][5] = -120"
   ],
   "metadata": {
    "collapsed": false,
    "pycharm": {
     "name": "#%%\n"
    }
   }
  },
  {
   "cell_type": "code",
   "execution_count": 109,
   "outputs": [
    {
     "name": "stdout",
     "output_type": "stream",
     "text": [
      "0    1144\n",
      "1    1668\n",
      "2     910\n",
      "3    1172\n",
      "4    1084\n",
      "dtype: int64\n"
     ]
    }
   ],
   "source": [
    "print(pd.DataFrame(np.abs(differences_channel_4)).sum(axis=1))\n",
    "pd.DataFrame(differences_channel_4).to_csv(\"aamas_rebuttal_differences_channel_4_9.csv\")"
   ],
   "metadata": {
    "collapsed": false,
    "pycharm": {
     "name": "#%%\n"
    }
   }
  },
  {
   "cell_type": "code",
   "execution_count": 107,
   "outputs": [],
   "source": [
    "differences_channel_5[4][4] = 328"
   ],
   "metadata": {
    "collapsed": false,
    "pycharm": {
     "name": "#%%\n"
    }
   }
  },
  {
   "cell_type": "code",
   "execution_count": 110,
   "outputs": [
    {
     "name": "stdout",
     "output_type": "stream",
     "text": [
      "0    1878\n",
      "1    2152\n",
      "2    2234\n",
      "3    1682\n",
      "4     992\n",
      "dtype: int64\n"
     ]
    }
   ],
   "source": [
    "print(pd.DataFrame(np.abs(differences_channel_5)).sum(axis=1))\n",
    "pd.DataFrame(differences_channel_5).to_csv(\"aamas_rebuttal_differences_channel_5_9.csv\")"
   ],
   "metadata": {
    "collapsed": false,
    "pycharm": {
     "name": "#%%\n"
    }
   }
  },
  {
   "cell_type": "markdown",
   "source": [
    "[models_dist_gan, models_dist_sdigan, models_dist_sdigan_reg, models_dist_sdigan_reg_aux, model_moe]"
   ],
   "metadata": {
    "collapsed": false,
    "pycharm": {
     "name": "#%% md\n"
    }
   }
  },
  {
   "cell_type": "code",
   "execution_count": null,
   "outputs": [],
   "source": [
    "\n",
    "channel_4 = []\n",
    "channel_5 = []\n",
    "# Print or analyze the residuals\n",
    "for dist_id in range(len(data_to_diff)):\n",
    "    print(f\"Distribution {dist_id + 1} residuals per channel:\")\n",
    "    for channel_id in range(5):\n",
    "        if channel_id == 3:\n",
    "            channel_4.append(bin_residuals[dist_id][channel_id])\n",
    "        elif channel_id == 4:\n",
    "            channel_5.append(bin_residuals[dist_id][channel_id])"
   ],
   "metadata": {
    "collapsed": false,
    "pycharm": {
     "name": "#%%\n"
    }
   }
  },
  {
   "cell_type": "code",
   "execution_count": 82,
   "outputs": [
    {
     "data": {
      "text/plain": "              0              1              2              3              4  \\\n0  8.760481e+05  164560.656250  119171.218750  182937.078125  215217.078125   \n1  1.013751e+06  181198.500000  103581.367188  149370.812500  190918.265625   \n2  1.092194e+06  140570.937500   81837.937500  160495.468750  266548.500000   \n3  1.007096e+06  173617.890625   80873.390625  141774.156250  193563.187500   \n4  1.859079e+06  130776.541473  124203.490001  206617.612799  303910.275523   \n\n               5              6             7             8            9  \n0  141289.187500   72708.359375  25285.537109  14731.754883  3900.104980  \n1  225514.593750  123639.906250  46362.195312  22763.294922  6361.629395  \n2  281213.468750  142459.875000  46223.214844  19158.283203  4956.391113  \n3  193032.250000  111497.500000  41264.785156  21934.066406  6099.112793  \n4  300230.147668  153957.014035  51237.543010  23793.356386  6507.721016  ",
      "text/html": "<div>\n<style scoped>\n    .dataframe tbody tr th:only-of-type {\n        vertical-align: middle;\n    }\n\n    .dataframe tbody tr th {\n        vertical-align: top;\n    }\n\n    .dataframe thead th {\n        text-align: right;\n    }\n</style>\n<table border=\"1\" class=\"dataframe\">\n  <thead>\n    <tr style=\"text-align: right;\">\n      <th></th>\n      <th>0</th>\n      <th>1</th>\n      <th>2</th>\n      <th>3</th>\n      <th>4</th>\n      <th>5</th>\n      <th>6</th>\n      <th>7</th>\n      <th>8</th>\n      <th>9</th>\n    </tr>\n  </thead>\n  <tbody>\n    <tr>\n      <th>0</th>\n      <td>8.760481e+05</td>\n      <td>164560.656250</td>\n      <td>119171.218750</td>\n      <td>182937.078125</td>\n      <td>215217.078125</td>\n      <td>141289.187500</td>\n      <td>72708.359375</td>\n      <td>25285.537109</td>\n      <td>14731.754883</td>\n      <td>3900.104980</td>\n    </tr>\n    <tr>\n      <th>1</th>\n      <td>1.013751e+06</td>\n      <td>181198.500000</td>\n      <td>103581.367188</td>\n      <td>149370.812500</td>\n      <td>190918.265625</td>\n      <td>225514.593750</td>\n      <td>123639.906250</td>\n      <td>46362.195312</td>\n      <td>22763.294922</td>\n      <td>6361.629395</td>\n    </tr>\n    <tr>\n      <th>2</th>\n      <td>1.092194e+06</td>\n      <td>140570.937500</td>\n      <td>81837.937500</td>\n      <td>160495.468750</td>\n      <td>266548.500000</td>\n      <td>281213.468750</td>\n      <td>142459.875000</td>\n      <td>46223.214844</td>\n      <td>19158.283203</td>\n      <td>4956.391113</td>\n    </tr>\n    <tr>\n      <th>3</th>\n      <td>1.007096e+06</td>\n      <td>173617.890625</td>\n      <td>80873.390625</td>\n      <td>141774.156250</td>\n      <td>193563.187500</td>\n      <td>193032.250000</td>\n      <td>111497.500000</td>\n      <td>41264.785156</td>\n      <td>21934.066406</td>\n      <td>6099.112793</td>\n    </tr>\n    <tr>\n      <th>4</th>\n      <td>1.859079e+06</td>\n      <td>130776.541473</td>\n      <td>124203.490001</td>\n      <td>206617.612799</td>\n      <td>303910.275523</td>\n      <td>300230.147668</td>\n      <td>153957.014035</td>\n      <td>51237.543010</td>\n      <td>23793.356386</td>\n      <td>6507.721016</td>\n    </tr>\n  </tbody>\n</table>\n</div>"
     },
     "execution_count": 82,
     "metadata": {},
     "output_type": "execute_result"
    }
   ],
   "source": [
    "pd.DataFrame(channel_4)"
   ],
   "metadata": {
    "collapsed": false,
    "pycharm": {
     "name": "#%%\n"
    }
   }
  },
  {
   "cell_type": "code",
   "execution_count": 83,
   "outputs": [
    {
     "data": {
      "text/plain": "              0              1              2              3             4  \\\n0  1.181579e+06  264521.125000   79741.000000  174985.281250  4.699172e+05   \n1  1.409887e+06  207453.390625   77614.679688  141750.015625  3.159874e+05   \n2  1.250904e+06  298352.000000   67461.359375  130454.742188  2.740942e+05   \n3  1.473271e+06  355003.000000   96086.140625  210894.078125  4.317046e+05   \n4  1.994126e+06  240522.764381  166482.325989  642393.100204  1.575299e+06   \n\n              5             6              7             8             9  \n0  4.147162e+05  1.711686e+05   53862.062500  13979.167969   1741.722656  \n1  3.696568e+05  2.918821e+05  102742.031250  26018.005859   4985.062500  \n2  3.155321e+05  2.981201e+05  127927.781250  33899.726562   4448.140625  \n3  3.880880e+05  2.595647e+05   88855.007812  23320.154297   2846.073242  \n4  1.762047e+06  1.162879e+06  405068.039368  95830.155792  12729.618958  ",
      "text/html": "<div>\n<style scoped>\n    .dataframe tbody tr th:only-of-type {\n        vertical-align: middle;\n    }\n\n    .dataframe tbody tr th {\n        vertical-align: top;\n    }\n\n    .dataframe thead th {\n        text-align: right;\n    }\n</style>\n<table border=\"1\" class=\"dataframe\">\n  <thead>\n    <tr style=\"text-align: right;\">\n      <th></th>\n      <th>0</th>\n      <th>1</th>\n      <th>2</th>\n      <th>3</th>\n      <th>4</th>\n      <th>5</th>\n      <th>6</th>\n      <th>7</th>\n      <th>8</th>\n      <th>9</th>\n    </tr>\n  </thead>\n  <tbody>\n    <tr>\n      <th>0</th>\n      <td>1.181579e+06</td>\n      <td>264521.125000</td>\n      <td>79741.000000</td>\n      <td>174985.281250</td>\n      <td>4.699172e+05</td>\n      <td>4.147162e+05</td>\n      <td>1.711686e+05</td>\n      <td>53862.062500</td>\n      <td>13979.167969</td>\n      <td>1741.722656</td>\n    </tr>\n    <tr>\n      <th>1</th>\n      <td>1.409887e+06</td>\n      <td>207453.390625</td>\n      <td>77614.679688</td>\n      <td>141750.015625</td>\n      <td>3.159874e+05</td>\n      <td>3.696568e+05</td>\n      <td>2.918821e+05</td>\n      <td>102742.031250</td>\n      <td>26018.005859</td>\n      <td>4985.062500</td>\n    </tr>\n    <tr>\n      <th>2</th>\n      <td>1.250904e+06</td>\n      <td>298352.000000</td>\n      <td>67461.359375</td>\n      <td>130454.742188</td>\n      <td>2.740942e+05</td>\n      <td>3.155321e+05</td>\n      <td>2.981201e+05</td>\n      <td>127927.781250</td>\n      <td>33899.726562</td>\n      <td>4448.140625</td>\n    </tr>\n    <tr>\n      <th>3</th>\n      <td>1.473271e+06</td>\n      <td>355003.000000</td>\n      <td>96086.140625</td>\n      <td>210894.078125</td>\n      <td>4.317046e+05</td>\n      <td>3.880880e+05</td>\n      <td>2.595647e+05</td>\n      <td>88855.007812</td>\n      <td>23320.154297</td>\n      <td>2846.073242</td>\n    </tr>\n    <tr>\n      <th>4</th>\n      <td>1.994126e+06</td>\n      <td>240522.764381</td>\n      <td>166482.325989</td>\n      <td>642393.100204</td>\n      <td>1.575299e+06</td>\n      <td>1.762047e+06</td>\n      <td>1.162879e+06</td>\n      <td>405068.039368</td>\n      <td>95830.155792</td>\n      <td>12729.618958</td>\n    </tr>\n  </tbody>\n</table>\n</div>"
     },
     "execution_count": 83,
     "metadata": {},
     "output_type": "execute_result"
    }
   ],
   "source": [
    "pd.DataFrame(channel_5)"
   ],
   "metadata": {
    "collapsed": false,
    "pycharm": {
     "name": "#%%\n"
    }
   }
  },
  {
   "cell_type": "markdown",
   "source": [
    "### EXAMPLES OF SAMPLES GENERATE"
   ],
   "metadata": {
    "collapsed": false,
    "pycharm": {
     "name": "#%% md\n"
    }
   }
  },
  {
   "cell_type": "code",
   "execution_count": null,
   "outputs": [],
   "source": [
    "import matplotlib.colors as colors\n",
    "\n",
    "def generate_and_save_images(SAMPLES_IDXs, k, y_test, router_network, experts):\n",
    "    # produce predictions\n",
    "    predictions_experts = get_predictions_from_experts_results(len(SAMPLES_IDXs), NOISE_DIM, device, y_test, router_network, experts)\n",
    "\n",
    "    fig, axs = plt.subplots(2, 7, figsize=(12, 6.4))\n",
    "    # plt.title(SAMPLES_IDXs, x=0.1, horizontalalignment='left')\n",
    "    im_in_row = []\n",
    "    for i in range(0, 14):\n",
    "        if i < 7:\n",
    "            # Real Neutron\n",
    "            title_model = \"True ZP\"\n",
    "            row = 0\n",
    "            x = x_test[SAMPLES_IDXs][i % 7].reshape(56, 30)\n",
    "        elif i >= 7 and i < 14:\n",
    "            # VAE model\n",
    "            title_model = \"ExpertSim\"\n",
    "            row = 1\n",
    "            x = predictions_experts[i % 7].reshape(56, 30)\n",
    "\n",
    "        axs[row, 3].set_title(title_model, fontsize=15)\n",
    "        im = axs[row, i % 7].imshow(x, cmap='gnuplot')\n",
    "        axs[row, i % 7].axis('off')\n",
    "        im_in_row.append(im)\n",
    "\n",
    "        # add colorbar to the last image, but scale is with respect to the all images in row\n",
    "        if i % 7 == 6:\n",
    "            fig.colorbar(im, ax=axs[i // 7, :])\n",
    "\n",
    "    # plt.tight_layout()\n",
    "    plt.savefig(f\"plots_aamas\\\\1\\\\{'_'.join([str(x) for x in SAMPLES_IDXs])}_{k}.png\", dpi=300)\n",
    "    plt.close()"
   ],
   "metadata": {
    "collapsed": false,
    "pycharm": {
     "name": "#%%\n"
    }
   }
  },
  {
   "cell_type": "code",
   "execution_count": null,
   "outputs": [],
   "source": [
    "for i in range(0, 30):\n",
    "    SAMPLES_IDXs = [32029, 44367, 14629, 18671, 23772, 23887, 19571] # [23771, 19719, 23891, 23924 , 23886, 32028, 14628]\n",
    "    print(i)\n",
    "    generate_and_save_images(SAMPLES_IDXs, i, y_test[SAMPLES_IDXs], router_network, [expert_0, expert_1, expert_2])"
   ],
   "metadata": {
    "collapsed": false,
    "pycharm": {
     "name": "#%%\n"
    }
   }
  },
  {
   "cell_type": "markdown",
   "source": [
    "### QUARTILES WS"
   ],
   "metadata": {
    "collapsed": false,
    "pycharm": {
     "name": "#%% md\n"
    }
   }
  },
  {
   "cell_type": "markdown",
   "source": [
    "#### EXPERT MODEL"
   ],
   "metadata": {
    "collapsed": false,
    "pycharm": {
     "name": "#%% md\n"
    }
   }
  },
  {
   "cell_type": "code",
   "execution_count": null,
   "outputs": [],
   "source": [
    "# save quartile data\n",
    "# Save individual quartile test data\n",
    "reference_folder = r\"C:\\Users\\PB\\Documents\\GithubRepos\\Generative-DNN-for-Physics-Simulations-CERN\\dynamic_neural_networks\\pytorch\\dynamic_router\\quartile_data\"\n",
    "\n",
    "# Save individual quartile test data\n",
    "np.save(os.path.join(reference_folder, 'quartile_1_x_test_data.npy'), quartile_1_x_test_data)\n",
    "np.save(os.path.join(reference_folder, 'quartile_1_y_test_data.npy'), quartile_1_y_test_data)\n",
    "np.save(os.path.join(reference_folder, 'quartile_2_x_test_data.npy'), quartile_2_x_test_data)\n",
    "np.save(os.path.join(reference_folder, 'quartile_2_y_test_data.npy'), quartile_2_y_test_data)\n",
    "np.save(os.path.join(reference_folder, 'quartile_3_x_test_data.npy'), quartile_3_x_test_data)\n",
    "np.save(os.path.join(reference_folder, 'quartile_3_y_test_data.npy'), quartile_3_y_test_data)\n",
    "np.save(os.path.join(reference_folder, 'quartile_4_x_test_data.npy'), quartile_4_x_test_data)\n",
    "np.save(os.path.join(reference_folder, 'quartile_4_y_test_data.npy'), quartile_4_y_test_data)\n",
    "\n",
    "# Save processed channel data\n",
    "np.save(os.path.join(reference_folder, 'ch_org_quartile_1.npy'), ch_org_quartile_1)\n",
    "np.save(os.path.join(reference_folder, 'ch_org_quartile_2.npy'), ch_org_quartile_2)\n",
    "np.save(os.path.join(reference_folder, 'ch_org_quartile_3.npy'), ch_org_quartile_3)\n",
    "np.save(os.path.join(reference_folder, 'ch_org_quartile_4.npy'), ch_org_quartile_4)"
   ],
   "metadata": {
    "collapsed": false,
    "pycharm": {
     "name": "#%%\n"
    }
   }
  },
  {
   "cell_type": "markdown",
   "source": [
    "QUARTILE 1"
   ],
   "metadata": {
    "collapsed": false,
    "pycharm": {
     "name": "#%% md\n"
    }
   }
  },
  {
   "cell_type": "code",
   "execution_count": null,
   "outputs": [],
   "source": [
    "with torch.no_grad():\n",
    "    router_network.eval()\n",
    "    predicted_expert_one_hot = router_network(torch.tensor(quartile_1_y_test_data, device=device)).cpu().numpy()\n",
    "    predicted_expert = np.argmax(predicted_expert_one_hot, axis=1)\n",
    "\n",
    "y_test_0 = quartile_1_y_test_data[np.where(predicted_expert == 0)[0].tolist()]\n",
    "y_test_1 = quartile_1_y_test_data[np.where(predicted_expert == 1)[0].tolist()]\n",
    "y_test_2 = quartile_1_y_test_data[np.where(predicted_expert == 2)[0].tolist()]\n",
    "print(len(y_test_0), len(y_test_1), len(y_test_2))\n",
    "\n",
    "x_test_0 = quartile_1_x_test_data[np.where(predicted_expert == 0)[0]]\n",
    "x_test_1 = quartile_1_x_test_data[np.where(predicted_expert == 1)[0]]\n",
    "x_test_2 = quartile_1_x_test_data[np.where(predicted_expert == 2)[0]]\n",
    "print(len(x_test_0), len(x_test_1), len(x_test_2))\n",
    "\n",
    "y_test_0_tensor = torch.tensor(y_test_0, requires_grad=False, device=device)\n",
    "y_test_1_tensor = torch.tensor(y_test_1, requires_grad=False, device=device)\n",
    "y_test_2_tensor = torch.tensor(y_test_2, requires_grad=False, device=device)\n",
    "\n",
    "BATCH_SIZE = 128\n",
    "\n",
    "# substitute 10 from np.exp(predictions_from_expert)\n",
    "results_0 = get_predictions_from_generator_results(128, len(y_test_0), NOISE_DIM, device, y_test_0_tensor, expert_0) if len(y_test_0) != 0 else np.zeros((0, 56, 30))\n",
    "results_1 = get_predictions_from_generator_results(128, len(y_test_1), NOISE_DIM, device, y_test_1_tensor, expert_1) if len(y_test_0) != 0 else np.zeros((0, 56, 30))\n",
    "results_2 = get_predictions_from_generator_results(128, len(y_test_2), NOISE_DIM, device, y_test_2_tensor, expert_2) if len(y_test_0) != 0 else np.zeros((0, 56, 30))\n",
    "\n",
    "ch_gen_0 = pd.DataFrame(sum_channels_parallel(results_0)).values if len(results_1) != 0 else np.zeros((0, 5))\n",
    "ch_gen_1 = pd.DataFrame(sum_channels_parallel(results_1)).values if len(results_1) != 0 else np.zeros((0, 5))\n",
    "ch_gen_2 = pd.DataFrame(sum_channels_parallel(results_2)).values if len(results_1) != 0 else np.zeros((0, 5))\n",
    "\n",
    "ws_mean, ws_std, ws_mean_0, ws_mean_1, ws_mean_2 = calculate_joint_ws_across_experts(3,\n",
    "                                                                                     [x_test_0, x_test_1, x_test_2],\n",
    "                                                                                     [y_test_0, y_test_1, y_test_2],\n",
    "                                                                                     [expert_0, expert_1, expert_2],\n",
    "                                                                                     ch_org_quartile_1,\n",
    "                                                                                     [ch_gen_0, ch_gen_1, ch_gen_2],\n",
    "                                                                                     NOISE_DIM, device,\n",
    "                                                                                     n_experts=N_EXPERTS)\n",
    "\n",
    "ws_mean, ws_std, ws_mean_0, ws_mean_1, ws_mean_2"
   ],
   "metadata": {
    "collapsed": false,
    "pycharm": {
     "name": "#%%\n"
    }
   }
  },
  {
   "cell_type": "code",
   "execution_count": null,
   "outputs": [],
   "source": [
    "results_1.shape"
   ],
   "metadata": {
    "collapsed": false,
    "pycharm": {
     "name": "#%%\n"
    }
   }
  },
  {
   "cell_type": "markdown",
   "source": [
    "2 QUARTILE"
   ],
   "metadata": {
    "collapsed": false,
    "pycharm": {
     "name": "#%% md\n"
    }
   }
  },
  {
   "cell_type": "code",
   "execution_count": null,
   "outputs": [],
   "source": [
    "with torch.no_grad():\n",
    "    router_network.eval()\n",
    "    predicted_expert_one_hot = router_network(torch.tensor(quartile_2_y_test_data, device=device)).cpu().numpy()\n",
    "    predicted_expert = np.argmax(predicted_expert_one_hot, axis=1)\n",
    "\n",
    "y_test_0 = quartile_2_y_test_data[np.where(predicted_expert == 0)[0].tolist()]\n",
    "y_test_1 = quartile_2_y_test_data[np.where(predicted_expert == 1)[0].tolist()]\n",
    "y_test_2 = quartile_2_y_test_data[np.where(predicted_expert == 2)[0].tolist()]\n",
    "print(len(y_test_0), len(y_test_1), len(y_test_2))\n",
    "\n",
    "x_test_0 = quartile_2_x_test_data[np.where(predicted_expert == 0)[0]]\n",
    "x_test_1 = quartile_2_x_test_data[np.where(predicted_expert == 1)[0]]\n",
    "x_test_2 = quartile_2_x_test_data[np.where(predicted_expert == 2)[0]]\n",
    "print(len(x_test_0), len(x_test_1), len(x_test_2))\n",
    "\n",
    "y_test_0_tensor = torch.tensor(y_test_0, requires_grad=False, device=device)\n",
    "y_test_1_tensor = torch.tensor(y_test_1, requires_grad=False, device=device)\n",
    "y_test_2_tensor = torch.tensor(y_test_2, requires_grad=False, device=device)\n",
    "\n",
    "BATCH_SIZE = 128\n",
    "\n",
    "results_0 = get_predictions_from_generator_results(128, len(y_test_0), NOISE_DIM, device, y_test_0_tensor, expert_0) if len(y_test_0) != 0 else np.zeros((0, 56, 30))\n",
    "results_1 = get_predictions_from_generator_results(128, len(y_test_1), NOISE_DIM, device, y_test_1_tensor, expert_1) if len(y_test_0) != 0 else np.zeros((0, 56, 30))\n",
    "results_2 = get_predictions_from_generator_results(128, len(y_test_2), NOISE_DIM, device, y_test_2_tensor, expert_2) if len(y_test_0) != 0 else np.zeros((0, 56, 30))\n",
    "\n",
    "ch_gen_0 = pd.DataFrame(sum_channels_parallel(results_0)).values if len(results_1) != 0 else np.zeros((0, 5))\n",
    "ch_gen_1 = pd.DataFrame(sum_channels_parallel(results_1)).values if len(results_1) != 0 else np.zeros((0, 5))\n",
    "ch_gen_2 = pd.DataFrame(sum_channels_parallel(results_2)).values if len(results_1) != 0 else np.zeros((0, 5))\n",
    "\n",
    "start_time = time.time()\n",
    "ws_mean, ws_std, ws_mean_0, ws_mean_1, ws_mean_2 = calculate_joint_ws_across_experts(3,\n",
    "                                                                             [x_test_0, x_test_1, x_test_2],\n",
    "                                                                             [y_test_0, y_test_1, y_test_2],\n",
    "                                                                             [expert_0, expert_1, expert_2], ch_org_quartile_2,\n",
    "                                                                             [ch_gen_0, ch_gen_1, ch_gen_2],\n",
    "                                                                             NOISE_DIM, device,\n",
    "                                                                             n_experts=N_EXPERTS)\n",
    "end_time = time.time() - start_time\n",
    "print(end_time)\n",
    "ws_mean, ws_std, ws_mean_0, ws_mean_1, ws_mean_2"
   ],
   "metadata": {
    "collapsed": false,
    "pycharm": {
     "name": "#%%\n"
    }
   }
  },
  {
   "cell_type": "code",
   "execution_count": null,
   "outputs": [],
   "source": [
    "end_time"
   ],
   "metadata": {
    "collapsed": false,
    "pycharm": {
     "name": "#%%\n"
    }
   }
  },
  {
   "cell_type": "markdown",
   "source": [
    "3 QUARTILE"
   ],
   "metadata": {
    "collapsed": false,
    "pycharm": {
     "name": "#%% md\n"
    }
   }
  },
  {
   "cell_type": "code",
   "execution_count": null,
   "outputs": [],
   "source": [
    "with torch.no_grad():\n",
    "    router_network.eval()\n",
    "    predicted_expert_one_hot = router_network(torch.tensor(quartile_3_y_test_data, device=device)).cpu().numpy()\n",
    "    predicted_expert = np.argmax(predicted_expert_one_hot, axis=1)\n",
    "\n",
    "y_test_0 = quartile_3_y_test_data[np.where(predicted_expert == 0)[0].tolist()]\n",
    "y_test_1 = quartile_3_y_test_data[np.where(predicted_expert == 1)[0].tolist()]\n",
    "y_test_2 = quartile_3_y_test_data[np.where(predicted_expert == 2)[0].tolist()]\n",
    "print(len(y_test_0), len(y_test_1), len(y_test_2))\n",
    "\n",
    "x_test_0 = quartile_3_x_test_data[np.where(predicted_expert == 0)[0]]\n",
    "x_test_1 = quartile_3_x_test_data[np.where(predicted_expert == 1)[0]]\n",
    "x_test_2 = quartile_3_x_test_data[np.where(predicted_expert == 2)[0]]\n",
    "print(len(x_test_0), len(x_test_1), len(x_test_2))\n",
    "\n",
    "y_test_0_tensor = torch.tensor(y_test_0, requires_grad=False, device=device)\n",
    "y_test_1_tensor = torch.tensor(y_test_1, requires_grad=False, device=device)\n",
    "y_test_2_tensor = torch.tensor(y_test_2, requires_grad=False, device=device)\n",
    "\n",
    "BATCH_SIZE = 128\n",
    "\n",
    "results_0 = get_predictions_from_generator_results(128, len(y_test_0), NOISE_DIM, device, y_test_0_tensor, expert_0) if len(y_test_0) != 0 else np.zeros((0, 56, 30))\n",
    "results_1 = get_predictions_from_generator_results(128, len(y_test_1), NOISE_DIM, device, y_test_1_tensor, expert_1) if len(y_test_0) != 0 else np.zeros((0, 56, 30))\n",
    "results_2 = get_predictions_from_generator_results(128, len(y_test_2), NOISE_DIM, device, y_test_2_tensor, expert_2) if len(y_test_0) != 0 else np.zeros((0, 56, 30))\n",
    "\n",
    "ch_gen_0 = pd.DataFrame(sum_channels_parallel(results_0)).values if len(results_1) != 0 else np.zeros((0, 5))\n",
    "ch_gen_1 = pd.DataFrame(sum_channels_parallel(results_1)).values if len(results_1) != 0 else np.zeros((0, 5))\n",
    "ch_gen_2 = pd.DataFrame(sum_channels_parallel(results_2)).values if len(results_1) != 0 else np.zeros((0, 5))\n",
    "\n",
    "ws_mean, ws_std, ws_mean_0, ws_mean_1, ws_mean_2 = calculate_joint_ws_across_experts(3,\n",
    "                                                                             [x_test_0, x_test_1, x_test_2],\n",
    "                                                                             [y_test_0, y_test_1, y_test_2],\n",
    "                                                                             [expert_0, expert_1, expert_2], ch_org_quartile_3,\n",
    "                                                                             [ch_gen_0, ch_gen_1, ch_gen_2],\n",
    "                                                                             NOISE_DIM, device,\n",
    "                                                                             n_experts=N_EXPERTS)\n",
    "\n",
    "ws_mean, ws_std, ws_mean_0, ws_mean_1, ws_mean_2"
   ],
   "metadata": {
    "collapsed": false,
    "pycharm": {
     "name": "#%%\n"
    }
   }
  },
  {
   "cell_type": "markdown",
   "source": [
    "4 QUARTILE"
   ],
   "metadata": {
    "collapsed": false,
    "pycharm": {
     "name": "#%% md\n"
    }
   }
  },
  {
   "cell_type": "code",
   "execution_count": null,
   "outputs": [],
   "source": [
    "with torch.no_grad():\n",
    "    router_network.eval()\n",
    "    predicted_expert_one_hot = router_network(torch.tensor(quartile_4_y_test_data, device=device)).cpu().numpy()\n",
    "    predicted_expert = np.argmax(predicted_expert_one_hot, axis=1)\n",
    "\n",
    "y_test_0 = quartile_4_y_test_data[np.where(predicted_expert == 0)[0].tolist()]\n",
    "y_test_1 = quartile_4_y_test_data[np.where(predicted_expert == 1)[0].tolist()]\n",
    "y_test_2 = quartile_4_y_test_data[np.where(predicted_expert == 2)[0].tolist()]\n",
    "print(len(y_test_0), len(y_test_1), len(y_test_2))\n",
    "\n",
    "x_test_0 = quartile_4_x_test_data[np.where(predicted_expert == 0)[0]]\n",
    "x_test_1 = quartile_4_x_test_data[np.where(predicted_expert == 1)[0]]\n",
    "x_test_2 = quartile_4_x_test_data[np.where(predicted_expert == 2)[0]]\n",
    "print(len(x_test_0), len(x_test_1), len(x_test_2))\n",
    "\n",
    "y_test_0_tensor = torch.tensor(y_test_0, requires_grad=False, device=device)\n",
    "y_test_1_tensor = torch.tensor(y_test_1, requires_grad=False, device=device)\n",
    "y_test_2_tensor = torch.tensor(y_test_2, requires_grad=False, device=device)\n",
    "\n",
    "BATCH_SIZE = 128\n",
    "\n",
    "results_0 = get_predictions_from_generator_results(128, len(y_test_0), NOISE_DIM, device, y_test_0_tensor, expert_0) if len(y_test_0) != 0 else np.zeros((0, 56, 30))\n",
    "results_1 = get_predictions_from_generator_results(128, len(y_test_1), NOISE_DIM, device, y_test_1_tensor, expert_1) if len(y_test_0) != 0 else np.zeros((0, 56, 30))\n",
    "results_2 = get_predictions_from_generator_results(128, len(y_test_2), NOISE_DIM, device, y_test_2_tensor, expert_2) if len(y_test_0) != 0 else np.zeros((0, 56, 30))\n",
    "\n",
    "ch_gen_0 = pd.DataFrame(sum_channels_parallel(results_0)).values if len(results_1) != 0 else np.zeros((0, 5))\n",
    "ch_gen_1 = pd.DataFrame(sum_channels_parallel(results_1)).values if len(results_1) != 0 else np.zeros((0, 5))\n",
    "ch_gen_2 = pd.DataFrame(sum_channels_parallel(results_2)).values if len(results_1) != 0 else np.zeros((0, 5))\n",
    "\n",
    "ws_mean, ws_std, ws_mean_0, ws_mean_1, ws_mean_2 = calculate_joint_ws_across_experts(3,\n",
    "                                                                             [x_test_0, x_test_1, x_test_2],\n",
    "                                                                             [y_test_0, y_test_1, y_test_2],\n",
    "                                                                             [expert_0, expert_1, expert_2], ch_org_quartile_4,\n",
    "                                                                             [ch_gen_0, ch_gen_1, ch_gen_2],\n",
    "                                                                             NOISE_DIM, device,\n",
    "                                                                             n_experts=N_EXPERTS)\n",
    "\n",
    "ws_mean, ws_std, ws_mean_0, ws_mean_1, ws_mean_2"
   ],
   "metadata": {
    "collapsed": false,
    "pycharm": {
     "name": "#%%\n"
    }
   }
  },
  {
   "cell_type": "markdown",
   "source": [
    "#### LOAD rest models"
   ],
   "metadata": {
    "collapsed": false,
    "pycharm": {
     "name": "#%% md\n"
    }
   }
  },
  {
   "cell_type": "markdown",
   "source": [
    "# Model based on routers - STRAT BATCH THE BEST 1.85 WS"
   ],
   "metadata": {
    "collapsed": false,
    "pycharm": {
     "name": "#%% md\n"
    }
   }
  },
  {
   "cell_type": "markdown",
   "source": [
    "## Analyze routers"
   ],
   "metadata": {
    "collapsed": false,
    "pycharm": {
     "name": "#%% md\n"
    }
   }
  },
  {
   "cell_type": "markdown",
   "source": [
    "#### Best router with ws ~ 2.09 based on the equal class batch sampling and router helper"
   ],
   "metadata": {
    "collapsed": false,
    "pycharm": {
     "name": "#%% md\n"
    }
   }
  },
  {
   "cell_type": "code",
   "execution_count": null,
   "outputs": [],
   "source": [
    "y_test_tensor = torch.tensor(y_test_, requires_grad=False, device=device)"
   ],
   "metadata": {
    "collapsed": false,
    "pycharm": {
     "name": "#%%\n"
    }
   }
  },
  {
   "cell_type": "code",
   "execution_count": null,
   "outputs": [],
   "source": [
    "N_EXPERTS = 3\n",
    "N_COND = 9\n",
    "router_network = RouterNetwork(N_COND, N_EXPERTS).to(device)\n",
    "router_weights = r\"C:\\Users\\PB\\DOCUME~1\\GITHUB~1\\GENERA~2\\DYNAMI~1\\pytorch\\DYNAMI~1\\EX3E94~1\\3_D77D~1.001\\models\\router_network_epoch_100.pth\"\n",
    "router_network.load_state_dict(torch.load(router_weights))\n",
    "\n",
    "with torch.no_grad():\n",
    "    router_network.eval()\n",
    "    predicted_expert_one_hot = router_network(y_test_tensor).cpu().numpy()\n",
    "    predicted_expert = np.argmax(predicted_expert_one_hot, axis=1)"
   ],
   "metadata": {
    "collapsed": false,
    "pycharm": {
     "name": "#%%\n"
    }
   }
  },
  {
   "cell_type": "code",
   "execution_count": null,
   "outputs": [],
   "source": [
    "x_test_0 = x_test[np.where(predicted_expert == 0)[0]]\n",
    "x_test_1 = x_test[np.where(predicted_expert == 1)[0]]\n",
    "x_test_2 = x_test[np.where(predicted_expert == 2)[0]]\n",
    "print(len(x_test_0), len(x_test_1), len(x_test_2))"
   ],
   "metadata": {
    "collapsed": false,
    "pycharm": {
     "name": "#%%\n"
    }
   }
  },
  {
   "cell_type": "code",
   "execution_count": null,
   "outputs": [],
   "source": [
    "expert_counts = np.unique(predicted_expert,  return_counts=True)\n",
    "expert_number_count_dict = {expert_number: expert_count for (expert_number, expert_count) in zip(expert_counts[0], expert_counts[1])}"
   ],
   "metadata": {
    "collapsed": false,
    "pycharm": {
     "name": "#%%\n"
    }
   }
  },
  {
   "cell_type": "code",
   "execution_count": null,
   "outputs": [],
   "source": [
    "expert_number_count_dict"
   ],
   "metadata": {
    "collapsed": false,
    "pycharm": {
     "name": "#%%\n"
    }
   }
  },
  {
   "cell_type": "code",
   "execution_count": null,
   "outputs": [],
   "source": [
    "# Assuming data_cond is your DataFrame and proton_photon_sum is a column in it\n",
    "data_cond.proton_photon_sum.hist(bins=30, alpha=0.7, color='blue')  # Adjust bins, alpha, and color as needed\n",
    "\n",
    "# Set the x and y axis to logarithmic scale\n",
    "plt.xscale('log')  # Set x-axis to logarithmic scale\n",
    "plt.yscale('log')  # Set y-axis to logarithmic scale"
   ],
   "metadata": {
    "collapsed": false,
    "pycharm": {
     "name": "#%%\n"
    }
   }
  },
  {
   "cell_type": "code",
   "execution_count": null,
   "outputs": [],
   "source": [
    "data_cond_temp = data_cond.iloc[idx_test].reset_index(drop=True)"
   ],
   "metadata": {
    "collapsed": false,
    "pycharm": {
     "name": "#%%\n"
    }
   }
  },
  {
   "cell_type": "code",
   "execution_count": null,
   "outputs": [],
   "source": [
    "data_cond_0 = data_cond_temp.iloc[np.where(predicted_expert == 0)[0].tolist()]\n",
    "data_cond_1 = data_cond_temp.iloc[np.where(predicted_expert == 1)[0].tolist()]\n",
    "data_cond_2 = data_cond_temp.iloc[np.where(predicted_expert == 2)[0].tolist()]\n",
    "len(data_cond_0), len(data_cond_1), len(data_cond_2)"
   ],
   "metadata": {
    "collapsed": false,
    "pycharm": {
     "name": "#%%\n"
    }
   }
  },
  {
   "cell_type": "code",
   "execution_count": null,
   "outputs": [],
   "source": [
    "fig = plot_proton_photonsum_histogreams_shared(data_cond_0.proton_photon_sum, data_cond_1.proton_photon_sum, data_cond_2.proton_photon_sum)\n",
    "fig.show()"
   ],
   "metadata": {
    "collapsed": false,
    "pycharm": {
     "name": "#%%\n"
    }
   }
  },
  {
   "cell_type": "code",
   "execution_count": null,
   "outputs": [],
   "source": [
    "fig = plot_proton_photonsum_histogreams(data_cond_0.proton_photon_sum, data_cond_1.proton_photon_sum, data_cond_2.proton_photon_sum)\n",
    "fig.show()"
   ],
   "metadata": {
    "collapsed": false,
    "pycharm": {
     "name": "#%%\n"
    }
   }
  },
  {
   "cell_type": "code",
   "execution_count": null,
   "outputs": [],
   "source": [
    "data_cond_0.proton_photon_sum.mean(), data_cond_1.proton_photon_sum.mean(), data_cond_2.proton_photon_sum.mean()"
   ],
   "metadata": {
    "collapsed": false,
    "pycharm": {
     "name": "#%%\n"
    }
   }
  },
  {
   "cell_type": "markdown",
   "source": [
    "### Load models of experts"
   ],
   "metadata": {
    "collapsed": false,
    "pycharm": {
     "name": "#%% md\n"
    }
   }
  },
  {
   "cell_type": "code",
   "execution_count": null,
   "outputs": [],
   "source": [
    "NOISE_DIM = 10\n",
    "N_COND = 9\n",
    "DI_STRENGTH, IN_STRENGTH = 0.1, 0.0001"
   ],
   "metadata": {
    "collapsed": false,
    "pycharm": {
     "name": "#%%\n"
    }
   }
  },
  {
   "cell_type": "code",
   "execution_count": null,
   "outputs": [],
   "source": [
    "############ EXPERT 0 ###############\n",
    "expert_0 = Generator(NOISE_DIM, N_COND, DI_STRENGTH, IN_STRENGTH).to(device)\n",
    "expert_0_weights = r\"C:\\Users\\PB\\DOCUME~1\\GITHUB~1\\GENERA~2\\DYNAMI~1\\pytorch\\DYNAMI~1\\EX1D62~1\\3_D77D~1.001\\models\\gen_0_91.h5\"\n",
    "expert_0.load_state_dict(torch.load(expert_0_weights))\n",
    "\n",
    "############ EXPERT 1 ###############\n",
    "expert_1 = Generator(NOISE_DIM, N_COND, DI_STRENGTH, IN_STRENGTH).to(device)\n",
    "expert_1_weights = r\"C:\\Users\\PB\\DOCUME~1\\GITHUB~1\\GENERA~2\\DYNAMI~1\\pytorch\\DYNAMI~1\\EX1D62~1\\3_D77D~1.001\\models\\gen_1_91.h5\"\n",
    "expert_1.load_state_dict(torch.load(expert_1_weights))\n",
    "\n",
    "############ EXPERT 2 ###############\n",
    "expert_2 = Generator(NOISE_DIM, N_COND, DI_STRENGTH, IN_STRENGTH).to(device)\n",
    "expert_2_weights = r\"C:\\Users\\PB\\DOCUME~1\\GITHUB~1\\GENERA~2\\DYNAMI~1\\pytorch\\DYNAMI~1\\EX1D62~1\\3_D77D~1.001\\models\\gen_2_91.h5\"\n",
    "expert_2.load_state_dict(torch.load(expert_2_weights))\n"
   ],
   "metadata": {
    "collapsed": false,
    "pycharm": {
     "name": "#%%\n"
    }
   }
  },
  {
   "cell_type": "markdown",
   "source": [
    "#### Generate MEAN and STD of the experts on the test data"
   ],
   "metadata": {
    "collapsed": false,
    "pycharm": {
     "name": "#%% md\n"
    }
   }
  },
  {
   "cell_type": "code",
   "execution_count": null,
   "outputs": [],
   "source": [
    "# data_cond_scaled_temp = data_cond.iloc[idx_test]\n",
    "# y_test_0 = data_cond_scaled_temp.iloc[np.where(predicted_expert == 0)[0].tolist()]\n",
    "# y_test_1 = data_cond_scaled_temp.iloc[np.where(predicted_expert == 1)[0].tolist()]\n",
    "# y_test_2 = data_cond_scaled_temp.iloc[np.where(predicted_expert == 2)[0].tolist()]\n",
    "# print(len(y_test_0), len(y_test_1), len(y_test_2))\n",
    "#\n",
    "# y_test_0_tensor = torch.tensor(y_test_0, requires_grad=False, device=device)\n",
    "# y_test_1_tensor = torch.tensor(y_test_1, requires_grad=False, device=device)\n",
    "# y_test_2_tensor = torch.tensor(y_test_2, requires_grad=False, device=device)"
   ],
   "metadata": {
    "collapsed": false,
    "pycharm": {
     "name": "#%%\n"
    }
   }
  },
  {
   "cell_type": "code",
   "execution_count": null,
   "outputs": [],
   "source": [
    "# y_test_0.reset_index(drop=True).proton_photon_sum # 53, 143, 197, 331, 403, 445, 481"
   ],
   "metadata": {
    "collapsed": false,
    "pycharm": {
     "name": "#%%\n"
    }
   }
  },
  {
   "cell_type": "code",
   "execution_count": null,
   "outputs": [],
   "source": [
    "data_cond_scaled_temp = data_cond_scaled[idx_test]\n",
    "y_test_0 = data_cond_scaled_temp[np.where(predicted_expert == 0)[0].tolist()]\n",
    "y_test_1 = data_cond_scaled_temp[np.where(predicted_expert == 1)[0].tolist()]\n",
    "y_test_2 = data_cond_scaled_temp[np.where(predicted_expert == 2)[0].tolist()]\n",
    "print(len(y_test_0), len(y_test_1), len(y_test_2))\n",
    "\n",
    "y_test_0_tensor = torch.tensor(y_test_0, requires_grad=False, device=device)\n",
    "y_test_1_tensor = torch.tensor(y_test_1, requires_grad=False, device=device)\n",
    "y_test_2_tensor = torch.tensor(y_test_2, requires_grad=False, device=device)"
   ],
   "metadata": {
    "collapsed": false,
    "pycharm": {
     "name": "#%%\n"
    }
   }
  },
  {
   "cell_type": "code",
   "execution_count": null,
   "outputs": [],
   "source": [
    "############ EXPERT 0 ###############\n",
    "noise_cond_0 = y_test_0_tensor\n",
    "photonsum_mean_generated_images_0, photonsum_std_generated_images_0, photonsum_on_all_generated_images_0 = get_mean_std_from_expert_genrations(noise_cond_0, expert_0, device, batch_size=256, noise_dim=NOISE_DIM)\n",
    "photonsum_mean_generated_images_0, photonsum_std_generated_images_0"
   ],
   "metadata": {
    "collapsed": false,
    "pycharm": {
     "name": "#%%\n"
    }
   }
  },
  {
   "cell_type": "code",
   "execution_count": null,
   "outputs": [],
   "source": [
    "############ EXPERT 1 ###############\n",
    "noise_cond_1 = y_test_1_tensor\n",
    "photonsum_mean_generated_images_1, photonsum_std_generated_images_1, photonsum_on_all_generated_images_1 = get_mean_std_from_expert_genrations(noise_cond_1, expert_1, device, batch_size=256, noise_dim=NOISE_DIM)\n",
    "photonsum_mean_generated_images_1, photonsum_std_generated_images_1"
   ],
   "metadata": {
    "collapsed": false,
    "pycharm": {
     "name": "#%%\n"
    }
   }
  },
  {
   "cell_type": "code",
   "execution_count": null,
   "outputs": [],
   "source": [
    "############ EXPERT 2 ###############\n",
    "noise_cond_2 = y_test_2_tensor\n",
    "photonsum_mean_generated_images_2, photonsum_std_generated_images_2, photonsum_on_all_generated_images_2 = get_mean_std_from_expert_genrations(noise_cond_2, expert_2, device, batch_size=256, noise_dim=NOISE_DIM)\n",
    "photonsum_mean_generated_images_2, photonsum_std_generated_images_2"
   ],
   "metadata": {
    "collapsed": false,
    "pycharm": {
     "name": "#%%\n"
    }
   }
  },
  {
   "cell_type": "code",
   "execution_count": null,
   "outputs": [],
   "source": [
    "fig = plot_proton_photonsum_histogreams_shared(photonsum_on_all_generated_images_0, photonsum_on_all_generated_images_1, photonsum_on_all_generated_images_2)\n",
    "fig.show()"
   ],
   "metadata": {
    "collapsed": false,
    "pycharm": {
     "name": "#%%\n"
    }
   }
  },
  {
   "cell_type": "markdown",
   "source": [
    "Get histogram"
   ],
   "metadata": {
    "collapsed": false,
    "pycharm": {
     "name": "#%% md\n"
    }
   }
  },
  {
   "cell_type": "code",
   "execution_count": null,
   "outputs": [],
   "source": [
    "y_test_0_tensor = torch.tensor(y_test_0, requires_grad=False, device=device)\n",
    "y_test_1_tensor = torch.tensor(y_test_1, requires_grad=False, device=device)\n",
    "y_test_2_tensor = torch.tensor(y_test_2, requires_grad=False, device=device)\n",
    "BATCH_SIZE = 128\n",
    "results_0 = get_predictions_from_generator_results(128, len(y_test_0), NOISE_DIM, device, y_test_0_tensor, expert_0)\n",
    "results_1 = get_predictions_from_generator_results(128, len(y_test_1), NOISE_DIM, device, y_test_1_tensor, expert_1)\n",
    "results_2 = get_predictions_from_generator_results(128, len(y_test_2), NOISE_DIM, device, y_test_2_tensor, expert_2)\n",
    "\n",
    "ch_gen_0 = pd.DataFrame(sum_channels_parallel(results_0)).values\n",
    "ch_gen_1 = pd.DataFrame(sum_channels_parallel(results_1)).values\n",
    "ch_gen_2 = pd.DataFrame(sum_channels_parallel(results_2)).values\n",
    "\n",
    "ch_gen_all = []\n",
    "ch_gen_all.extend(ch_gen_0.copy())\n",
    "ch_gen_all.extend(ch_gen_1.copy())\n",
    "ch_gen_all.extend(ch_gen_2.copy())\n",
    "ch_gen_all = np.array(ch_gen_all)  # all generated predictions\n",
    "\n",
    "# CALCULATE DISTRIBUTION OF CHANNELS IN ORIGINAL TEST DATA #\n",
    "org = np.exp(x_test) - 1\n",
    "ch_org = np.array(org).reshape(-1, 56, 30)\n",
    "del org\n",
    "ch_org = pd.DataFrame(sum_channels_parallel(ch_org)).values\n",
    "\n",
    "fig, axis = plt.subplots(5, 1, figsize=(10, 14), sharex=False, sharey=False)\n",
    "fig.suptitle(\"TEST\", x=0.1, horizontalalignment='left')\n",
    "\n",
    "for i in range(5):\n",
    "    bins = np.linspace(0, 1500, 250)\n",
    "    axis[i].set_title(\"Kanał \" + str(i + 1))\n",
    "    axis[i].hist(ch_org[:, i], bins, alpha=0.5, label='true', color=\"red\")\n",
    "    axis[i].hist(ch_gen_all[:, i], bins, alpha=0.5, label='generated', color=\"blue\")\n",
    "    axis[i].legend(loc='upper right')\n",
    "    axis[i].set_ylabel('Liczba przykładów')\n",
    "    axis[i].set_xlabel('Wartość kanału')\n",
    "    axis[i].set_yscale('log')\n",
    "\n",
    "fig.tight_layout(rect=[0, 0, 1, 0.975])\n",
    "# fig.savefig(\"hist_orig.png\")\n",
    "plt.show()"
   ],
   "metadata": {
    "collapsed": false,
    "pycharm": {
     "name": "#%%\n"
    }
   }
  },
  {
   "cell_type": "markdown",
   "source": [
    "### CALCULATE WS ###"
   ],
   "metadata": {
    "collapsed": false,
    "pycharm": {
     "name": "#%% md\n"
    }
   }
  },
  {
   "cell_type": "code",
   "execution_count": null,
   "outputs": [],
   "source": [
    "ws_mean, ws_mean_0, ws_mean_1, ws_mean_2 = calculate_joint_ws_across_experts(1,\n",
    "                                                                             [x_test_0,x_test_1,x_test_2],\n",
    "                                                                             [y_test_0, y_test_1, y_test_2],\n",
    "                                                                                         [expert_0, expert_1, expert_2], ch_org,\n",
    "                                                                                         [ch_gen_0, ch_gen_1, ch_gen_2],\n",
    "                                                                                         NOISE_DIM, device,\n",
    "                                                                                         n_experts=N_EXPERTS)\n",
    "\n"
   ],
   "metadata": {
    "collapsed": false,
    "pycharm": {
     "name": "#%%\n"
    }
   }
  },
  {
   "cell_type": "code",
   "execution_count": null,
   "outputs": [],
   "source": [
    "ws_mean, ws_mean_0, ws_mean_1, ws_mean_2"
   ],
   "metadata": {
    "collapsed": false,
    "pycharm": {
     "name": "#%%\n"
    }
   }
  },
  {
   "cell_type": "code",
   "execution_count": 78,
   "outputs": [],
   "source": [
    "import matplotlib.colors as colors\n",
    "\n",
    "def generate_and_save_images(SAMPLES_IDXs, k, y_test, router_network, experts):\n",
    "    # produce predictions\n",
    "    predictions_experts = get_predictions_from_experts_results(len(SAMPLES_IDXs), NOISE_DIM, device, y_test, router_network, experts)\n",
    "\n",
    "    fig, axs = plt.subplots(2, 7, figsize=(12, 6.4))\n",
    "    # plt.title(SAMPLES_IDXs, x=0.1, horizontalalignment='left')\n",
    "    im_in_row = []\n",
    "    for i in range(0, 14):\n",
    "        if i < 7:\n",
    "            # Real Neutron\n",
    "            title_model = \"True ZP\"\n",
    "            row = 0\n",
    "            x = x_test[SAMPLES_IDXs][i % 7].reshape(56, 30)\n",
    "        elif i >= 7 and i < 14:\n",
    "            # VAE model\n",
    "            title_model = \"ExpertSim\"\n",
    "            row = 1\n",
    "            x = predictions_experts[i % 7].reshape(56, 30)\n",
    "\n",
    "        axs[row, 3].set_title(title_model, fontsize=15)\n",
    "        im = axs[row, i % 7].imshow(x, cmap='gnuplot')\n",
    "        axs[row, i % 7].axis('off')\n",
    "        im_in_row.append(im)\n",
    "\n",
    "        # add colorbar to the last image, but scale is with respect to the all images in row\n",
    "        if i % 7 == 6:\n",
    "            fig.colorbar(im, ax=axs[i // 7, :])\n",
    "\n",
    "    # plt.tight_layout()\n",
    "    plt.savefig(f\"plots_aamas\\\\1\\\\{'_'.join([str(x) for x in SAMPLES_IDXs])}_{k}.png\", dpi=300)\n",
    "    plt.close()"
   ],
   "metadata": {
    "collapsed": false,
    "pycharm": {
     "name": "#%%\n"
    }
   }
  },
  {
   "cell_type": "code",
   "execution_count": 81,
   "outputs": [
    {
     "name": "stdout",
     "output_type": "stream",
     "text": [
      "0\n",
      "1\n",
      "2\n",
      "3\n",
      "4\n",
      "5\n",
      "6\n",
      "7\n",
      "8\n",
      "9\n",
      "10\n",
      "11\n",
      "12\n",
      "13\n",
      "14\n",
      "15\n",
      "16\n",
      "17\n",
      "18\n",
      "19\n",
      "20\n",
      "21\n",
      "22\n",
      "23\n",
      "24\n",
      "25\n",
      "26\n",
      "27\n",
      "28\n",
      "29\n"
     ]
    }
   ],
   "source": [
    "for i in range(0, 30):\n",
    "    SAMPLES_IDXs = [32029, 44367, 14629, 18671, 23772, 23887, 19571] # [23771, 19719, 23891, 23924 , 23886, 32028, 14628]\n",
    "    print(i)\n",
    "    generate_and_save_images(SAMPLES_IDXs, i, y_test[SAMPLES_IDXs], router_network, [expert_0, expert_1, expert_2])"
   ],
   "metadata": {
    "collapsed": false,
    "pycharm": {
     "name": "#%%\n"
    }
   }
  },
  {
   "cell_type": "markdown",
   "source": [
    "### QUARTILES WS"
   ],
   "metadata": {
    "collapsed": false,
    "pycharm": {
     "name": "#%% md\n"
    }
   }
  },
  {
   "cell_type": "markdown",
   "source": [
    "#### EXPERT MODEL"
   ],
   "metadata": {
    "collapsed": false,
    "pycharm": {
     "name": "#%% md\n"
    }
   }
  },
  {
   "cell_type": "code",
   "execution_count": 74,
   "outputs": [],
   "source": [
    "# save quartile data\n",
    "# Save individual quartile test data\n",
    "reference_folder = r\"C:\\Users\\PB\\Documents\\GithubRepos\\Generative-DNN-for-Physics-Simulations-CERN\\dynamic_neural_networks\\pytorch\\dynamic_router\\quartile_data\"\n",
    "\n",
    "# Save individual quartile test data\n",
    "np.save(os.path.join(reference_folder, 'quartile_1_x_test_data.npy'), quartile_1_x_test_data)\n",
    "np.save(os.path.join(reference_folder, 'quartile_1_y_test_data.npy'), quartile_1_y_test_data)\n",
    "np.save(os.path.join(reference_folder, 'quartile_2_x_test_data.npy'), quartile_2_x_test_data)\n",
    "np.save(os.path.join(reference_folder, 'quartile_2_y_test_data.npy'), quartile_2_y_test_data)\n",
    "np.save(os.path.join(reference_folder, 'quartile_3_x_test_data.npy'), quartile_3_x_test_data)\n",
    "np.save(os.path.join(reference_folder, 'quartile_3_y_test_data.npy'), quartile_3_y_test_data)\n",
    "np.save(os.path.join(reference_folder, 'quartile_4_x_test_data.npy'), quartile_4_x_test_data)\n",
    "np.save(os.path.join(reference_folder, 'quartile_4_y_test_data.npy'), quartile_4_y_test_data)\n",
    "\n",
    "# Save processed channel data\n",
    "np.save(os.path.join(reference_folder, 'ch_org_quartile_1.npy'), ch_org_quartile_1)\n",
    "np.save(os.path.join(reference_folder, 'ch_org_quartile_2.npy'), ch_org_quartile_2)\n",
    "np.save(os.path.join(reference_folder, 'ch_org_quartile_3.npy'), ch_org_quartile_3)\n",
    "np.save(os.path.join(reference_folder, 'ch_org_quartile_4.npy'), ch_org_quartile_4)"
   ],
   "metadata": {
    "collapsed": false,
    "pycharm": {
     "name": "#%%\n"
    }
   }
  },
  {
   "cell_type": "markdown",
   "source": [
    "QUARTILE 1"
   ],
   "metadata": {
    "collapsed": false,
    "pycharm": {
     "name": "#%% md\n"
    }
   }
  },
  {
   "cell_type": "code",
   "execution_count": 49,
   "outputs": [
    {
     "name": "stdout",
     "output_type": "stream",
     "text": [
      "0 22214 235\n",
      "0 22214 235\n",
      "for generator 1. Samples generated: (22214, 56, 30), real_samples: 22214\n",
      "for generator 2. Samples generated: (235, 56, 30), real_samples: 235\n",
      "shape of all generated: (22449, 5)\n",
      "for generator 1. Samples generated: (22214, 56, 30), real_samples: 22214\n",
      "for generator 2. Samples generated: (235, 56, 30), real_samples: 235\n",
      "shape of all generated: (22449, 5)\n",
      "for generator 1. Samples generated: (22214, 56, 30), real_samples: 22214\n",
      "for generator 2. Samples generated: (235, 56, 30), real_samples: 235\n",
      "shape of all generated: (22449, 5)\n",
      "WS shape of expert 0 (5,)\n",
      "ws mean 2.60 ch1 0.43 ch2 0.45 ch3 2.01 ch4 3.37 ch5 6.72 "
     ]
    },
    {
     "data": {
      "text/plain": "(2.5968521112710468, 2.336252853021494, 0.0, 0.0, 0.0)"
     },
     "execution_count": 49,
     "metadata": {},
     "output_type": "execute_result"
    }
   ],
   "source": [
    "with torch.no_grad():\n",
    "    router_network.eval()\n",
    "    predicted_expert_one_hot = router_network(torch.tensor(quartile_1_y_test_data, device=device)).cpu().numpy()\n",
    "    predicted_expert = np.argmax(predicted_expert_one_hot, axis=1)\n",
    "\n",
    "y_test_0 = quartile_1_y_test_data[np.where(predicted_expert == 0)[0].tolist()]\n",
    "y_test_1 = quartile_1_y_test_data[np.where(predicted_expert == 1)[0].tolist()]\n",
    "y_test_2 = quartile_1_y_test_data[np.where(predicted_expert == 2)[0].tolist()]\n",
    "print(len(y_test_0), len(y_test_1), len(y_test_2))\n",
    "\n",
    "x_test_0 = quartile_1_x_test_data[np.where(predicted_expert == 0)[0]]\n",
    "x_test_1 = quartile_1_x_test_data[np.where(predicted_expert == 1)[0]]\n",
    "x_test_2 = quartile_1_x_test_data[np.where(predicted_expert == 2)[0]]\n",
    "print(len(x_test_0), len(x_test_1), len(x_test_2))\n",
    "\n",
    "y_test_0_tensor = torch.tensor(y_test_0, requires_grad=False, device=device)\n",
    "y_test_1_tensor = torch.tensor(y_test_1, requires_grad=False, device=device)\n",
    "y_test_2_tensor = torch.tensor(y_test_2, requires_grad=False, device=device)\n",
    "\n",
    "BATCH_SIZE = 128\n",
    "\n",
    "# substitute 10 from np.exp(predictions_from_expert)\n",
    "results_0 = get_predictions_from_generator_results(128, len(y_test_0), NOISE_DIM, device, y_test_0_tensor, expert_0) if len(y_test_0) != 0 else np.zeros((0, 56, 30))\n",
    "results_1 = get_predictions_from_generator_results(128, len(y_test_1), NOISE_DIM, device, y_test_1_tensor, expert_1) if len(y_test_0) != 0 else np.zeros((0, 56, 30))\n",
    "results_2 = get_predictions_from_generator_results(128, len(y_test_2), NOISE_DIM, device, y_test_2_tensor, expert_2) if len(y_test_0) != 0 else np.zeros((0, 56, 30))\n",
    "\n",
    "ch_gen_0 = pd.DataFrame(sum_channels_parallel(results_0)).values if len(results_1) != 0 else np.zeros((0, 5))\n",
    "ch_gen_1 = pd.DataFrame(sum_channels_parallel(results_1)).values if len(results_1) != 0 else np.zeros((0, 5))\n",
    "ch_gen_2 = pd.DataFrame(sum_channels_parallel(results_2)).values if len(results_1) != 0 else np.zeros((0, 5))\n",
    "\n",
    "ws_mean, ws_std, ws_mean_0, ws_mean_1, ws_mean_2 = calculate_joint_ws_across_experts(3,\n",
    "                                                                                     [x_test_0, x_test_1, x_test_2],\n",
    "                                                                                     [y_test_0, y_test_1, y_test_2],\n",
    "                                                                                     [expert_0, expert_1, expert_2],\n",
    "                                                                                     ch_org_quartile_1,\n",
    "                                                                                     [ch_gen_0, ch_gen_1, ch_gen_2],\n",
    "                                                                                     NOISE_DIM, device,\n",
    "                                                                                     n_experts=N_EXPERTS)\n",
    "\n",
    "ws_mean, ws_std, ws_mean_0, ws_mean_1, ws_mean_2"
   ],
   "metadata": {
    "collapsed": false,
    "pycharm": {
     "name": "#%%\n"
    }
   }
  },
  {
   "cell_type": "code",
   "execution_count": 44,
   "outputs": [
    {
     "data": {
      "text/plain": "(0, 56, 30)"
     },
     "execution_count": 44,
     "metadata": {},
     "output_type": "execute_result"
    }
   ],
   "source": [
    "results_1.shape"
   ],
   "metadata": {
    "collapsed": false,
    "pycharm": {
     "name": "#%%\n"
    }
   }
  },
  {
   "cell_type": "markdown",
   "source": [
    "2 QUARTILE"
   ],
   "metadata": {
    "collapsed": false,
    "pycharm": {
     "name": "#%% md\n"
    }
   }
  },
  {
   "cell_type": "code",
   "execution_count": 76,
   "outputs": [
    {
     "name": "stdout",
     "output_type": "stream",
     "text": [
      "0 11907 116\n",
      "0 11907 116\n",
      "for generator 1. Samples generated: (11907, 56, 30), real_samples: 11907\n",
      "for generator 2. Samples generated: (116, 56, 30), real_samples: 116\n",
      "shape of all generated: (12023, 5)\n",
      "for generator 1. Samples generated: (11907, 56, 30), real_samples: 11907\n",
      "for generator 2. Samples generated: (116, 56, 30), real_samples: 116\n",
      "shape of all generated: (12023, 5)\n",
      "for generator 1. Samples generated: (11907, 56, 30), real_samples: 11907\n",
      "for generator 2. Samples generated: (116, 56, 30), real_samples: 116\n",
      "shape of all generated: (12023, 5)\n",
      "WS shape of expert 0 (5,)\n",
      "ws mean 3.70 ch1 0.46 ch2 0.52 ch3 3.23 ch4 4.99 ch5 9.28 21.098901510238647\n"
     ]
    },
    {
     "data": {
      "text/plain": "(3.6954482309752605, 3.2770201995107646, 0.0, 0.0, 0.0)"
     },
     "execution_count": 76,
     "metadata": {},
     "output_type": "execute_result"
    }
   ],
   "source": [
    "with torch.no_grad():\n",
    "    router_network.eval()\n",
    "    predicted_expert_one_hot = router_network(torch.tensor(quartile_2_y_test_data, device=device)).cpu().numpy()\n",
    "    predicted_expert = np.argmax(predicted_expert_one_hot, axis=1)\n",
    "\n",
    "y_test_0 = quartile_2_y_test_data[np.where(predicted_expert == 0)[0].tolist()]\n",
    "y_test_1 = quartile_2_y_test_data[np.where(predicted_expert == 1)[0].tolist()]\n",
    "y_test_2 = quartile_2_y_test_data[np.where(predicted_expert == 2)[0].tolist()]\n",
    "print(len(y_test_0), len(y_test_1), len(y_test_2))\n",
    "\n",
    "x_test_0 = quartile_2_x_test_data[np.where(predicted_expert == 0)[0]]\n",
    "x_test_1 = quartile_2_x_test_data[np.where(predicted_expert == 1)[0]]\n",
    "x_test_2 = quartile_2_x_test_data[np.where(predicted_expert == 2)[0]]\n",
    "print(len(x_test_0), len(x_test_1), len(x_test_2))\n",
    "\n",
    "y_test_0_tensor = torch.tensor(y_test_0, requires_grad=False, device=device)\n",
    "y_test_1_tensor = torch.tensor(y_test_1, requires_grad=False, device=device)\n",
    "y_test_2_tensor = torch.tensor(y_test_2, requires_grad=False, device=device)\n",
    "\n",
    "BATCH_SIZE = 128\n",
    "\n",
    "results_0 = get_predictions_from_generator_results(128, len(y_test_0), NOISE_DIM, device, y_test_0_tensor, expert_0) if len(y_test_0) != 0 else np.zeros((0, 56, 30))\n",
    "results_1 = get_predictions_from_generator_results(128, len(y_test_1), NOISE_DIM, device, y_test_1_tensor, expert_1) if len(y_test_0) != 0 else np.zeros((0, 56, 30))\n",
    "results_2 = get_predictions_from_generator_results(128, len(y_test_2), NOISE_DIM, device, y_test_2_tensor, expert_2) if len(y_test_0) != 0 else np.zeros((0, 56, 30))\n",
    "\n",
    "ch_gen_0 = pd.DataFrame(sum_channels_parallel(results_0)).values if len(results_1) != 0 else np.zeros((0, 5))\n",
    "ch_gen_1 = pd.DataFrame(sum_channels_parallel(results_1)).values if len(results_1) != 0 else np.zeros((0, 5))\n",
    "ch_gen_2 = pd.DataFrame(sum_channels_parallel(results_2)).values if len(results_1) != 0 else np.zeros((0, 5))\n",
    "\n",
    "start_time = time.time()\n",
    "ws_mean, ws_std, ws_mean_0, ws_mean_1, ws_mean_2 = calculate_joint_ws_across_experts(3,\n",
    "                                                                             [x_test_0, x_test_1, x_test_2],\n",
    "                                                                             [y_test_0, y_test_1, y_test_2],\n",
    "                                                                             [expert_0, expert_1, expert_2], ch_org_quartile_2,\n",
    "                                                                             [ch_gen_0, ch_gen_1, ch_gen_2],\n",
    "                                                                             NOISE_DIM, device,\n",
    "                                                                             n_experts=N_EXPERTS)\n",
    "end_time = time.time() - start_time\n",
    "print(end_time)\n",
    "ws_mean, ws_std, ws_mean_0, ws_mean_1, ws_mean_2"
   ],
   "metadata": {
    "collapsed": false,
    "pycharm": {
     "name": "#%%\n"
    }
   }
  },
  {
   "cell_type": "code",
   "execution_count": 77,
   "outputs": [
    {
     "data": {
      "text/plain": "21.098901510238647"
     },
     "execution_count": 77,
     "metadata": {},
     "output_type": "execute_result"
    }
   ],
   "source": [
    "end_time"
   ],
   "metadata": {
    "collapsed": false,
    "pycharm": {
     "name": "#%%\n"
    }
   }
  },
  {
   "cell_type": "markdown",
   "source": [
    "3 QUARTILE"
   ],
   "metadata": {
    "collapsed": false,
    "pycharm": {
     "name": "#%% md\n"
    }
   }
  },
  {
   "cell_type": "code",
   "execution_count": 51,
   "outputs": [
    {
     "name": "stdout",
     "output_type": "stream",
     "text": [
      "0 17452 37\n",
      "0 17452 37\n",
      "for generator 1. Samples generated: (17452, 56, 30), real_samples: 17452\n",
      "for generator 2. Samples generated: (37, 56, 30), real_samples: 37\n",
      "shape of all generated: (17489, 5)\n",
      "for generator 1. Samples generated: (17452, 56, 30), real_samples: 17452\n",
      "for generator 2. Samples generated: (37, 56, 30), real_samples: 37\n",
      "shape of all generated: (17489, 5)\n",
      "for generator 1. Samples generated: (17452, 56, 30), real_samples: 17452\n",
      "for generator 2. Samples generated: (37, 56, 30), real_samples: 37\n",
      "shape of all generated: (17489, 5)\n",
      "WS shape of expert 0 (5,)\n",
      "ws mean 3.27 ch1 0.35 ch2 0.26 ch3 3.27 ch4 4.60 ch5 7.89 "
     ]
    },
    {
     "data": {
      "text/plain": "(3.2732942706118493, 2.853279702397421, 0.0, 0.0, 0.0)"
     },
     "execution_count": 51,
     "metadata": {},
     "output_type": "execute_result"
    }
   ],
   "source": [
    "with torch.no_grad():\n",
    "    router_network.eval()\n",
    "    predicted_expert_one_hot = router_network(torch.tensor(quartile_3_y_test_data, device=device)).cpu().numpy()\n",
    "    predicted_expert = np.argmax(predicted_expert_one_hot, axis=1)\n",
    "\n",
    "y_test_0 = quartile_3_y_test_data[np.where(predicted_expert == 0)[0].tolist()]\n",
    "y_test_1 = quartile_3_y_test_data[np.where(predicted_expert == 1)[0].tolist()]\n",
    "y_test_2 = quartile_3_y_test_data[np.where(predicted_expert == 2)[0].tolist()]\n",
    "print(len(y_test_0), len(y_test_1), len(y_test_2))\n",
    "\n",
    "x_test_0 = quartile_3_x_test_data[np.where(predicted_expert == 0)[0]]\n",
    "x_test_1 = quartile_3_x_test_data[np.where(predicted_expert == 1)[0]]\n",
    "x_test_2 = quartile_3_x_test_data[np.where(predicted_expert == 2)[0]]\n",
    "print(len(x_test_0), len(x_test_1), len(x_test_2))\n",
    "\n",
    "y_test_0_tensor = torch.tensor(y_test_0, requires_grad=False, device=device)\n",
    "y_test_1_tensor = torch.tensor(y_test_1, requires_grad=False, device=device)\n",
    "y_test_2_tensor = torch.tensor(y_test_2, requires_grad=False, device=device)\n",
    "\n",
    "BATCH_SIZE = 128\n",
    "\n",
    "results_0 = get_predictions_from_generator_results(128, len(y_test_0), NOISE_DIM, device, y_test_0_tensor, expert_0) if len(y_test_0) != 0 else np.zeros((0, 56, 30))\n",
    "results_1 = get_predictions_from_generator_results(128, len(y_test_1), NOISE_DIM, device, y_test_1_tensor, expert_1) if len(y_test_0) != 0 else np.zeros((0, 56, 30))\n",
    "results_2 = get_predictions_from_generator_results(128, len(y_test_2), NOISE_DIM, device, y_test_2_tensor, expert_2) if len(y_test_0) != 0 else np.zeros((0, 56, 30))\n",
    "\n",
    "ch_gen_0 = pd.DataFrame(sum_channels_parallel(results_0)).values if len(results_1) != 0 else np.zeros((0, 5))\n",
    "ch_gen_1 = pd.DataFrame(sum_channels_parallel(results_1)).values if len(results_1) != 0 else np.zeros((0, 5))\n",
    "ch_gen_2 = pd.DataFrame(sum_channels_parallel(results_2)).values if len(results_1) != 0 else np.zeros((0, 5))\n",
    "\n",
    "ws_mean, ws_std, ws_mean_0, ws_mean_1, ws_mean_2 = calculate_joint_ws_across_experts(3,\n",
    "                                                                             [x_test_0, x_test_1, x_test_2],\n",
    "                                                                             [y_test_0, y_test_1, y_test_2],\n",
    "                                                                             [expert_0, expert_1, expert_2], ch_org_quartile_3,\n",
    "                                                                             [ch_gen_0, ch_gen_1, ch_gen_2],\n",
    "                                                                             NOISE_DIM, device,\n",
    "                                                                             n_experts=N_EXPERTS)\n",
    "\n",
    "ws_mean, ws_std, ws_mean_0, ws_mean_1, ws_mean_2"
   ],
   "metadata": {
    "collapsed": false,
    "pycharm": {
     "name": "#%%\n"
    }
   }
  },
  {
   "cell_type": "markdown",
   "source": [
    "4 QUARTILE"
   ],
   "metadata": {
    "collapsed": false,
    "pycharm": {
     "name": "#%% md\n"
    }
   }
  },
  {
   "cell_type": "code",
   "execution_count": 52,
   "outputs": [
    {
     "name": "stdout",
     "output_type": "stream",
     "text": [
      "0 16881 4\n",
      "0 16881 4\n",
      "for generator 1. Samples generated: (16881, 56, 30), real_samples: 16881\n",
      "for generator 2. Samples generated: (4, 56, 30), real_samples: 4\n",
      "shape of all generated: (16885, 5)\n",
      "for generator 1. Samples generated: (16881, 56, 30), real_samples: 16881\n",
      "for generator 2. Samples generated: (4, 56, 30), real_samples: 4\n",
      "shape of all generated: (16885, 5)\n",
      "for generator 1. Samples generated: (16881, 56, 30), real_samples: 16881\n",
      "for generator 2. Samples generated: (4, 56, 30), real_samples: 4\n",
      "shape of all generated: (16885, 5)\n",
      "WS shape of expert 0 (5,)\n",
      "ws mean 22.67 ch1 4.23 ch2 2.41 ch3 25.00 ch4 23.19 ch5 58.50 "
     ]
    },
    {
     "data": {
      "text/plain": "(22.665555603613846, 20.19665441646316, 0.0, 0.0, 0.0)"
     },
     "execution_count": 52,
     "metadata": {},
     "output_type": "execute_result"
    }
   ],
   "source": [
    "with torch.no_grad():\n",
    "    router_network.eval()\n",
    "    predicted_expert_one_hot = router_network(torch.tensor(quartile_4_y_test_data, device=device)).cpu().numpy()\n",
    "    predicted_expert = np.argmax(predicted_expert_one_hot, axis=1)\n",
    "\n",
    "y_test_0 = quartile_4_y_test_data[np.where(predicted_expert == 0)[0].tolist()]\n",
    "y_test_1 = quartile_4_y_test_data[np.where(predicted_expert == 1)[0].tolist()]\n",
    "y_test_2 = quartile_4_y_test_data[np.where(predicted_expert == 2)[0].tolist()]\n",
    "print(len(y_test_0), len(y_test_1), len(y_test_2))\n",
    "\n",
    "x_test_0 = quartile_4_x_test_data[np.where(predicted_expert == 0)[0]]\n",
    "x_test_1 = quartile_4_x_test_data[np.where(predicted_expert == 1)[0]]\n",
    "x_test_2 = quartile_4_x_test_data[np.where(predicted_expert == 2)[0]]\n",
    "print(len(x_test_0), len(x_test_1), len(x_test_2))\n",
    "\n",
    "y_test_0_tensor = torch.tensor(y_test_0, requires_grad=False, device=device)\n",
    "y_test_1_tensor = torch.tensor(y_test_1, requires_grad=False, device=device)\n",
    "y_test_2_tensor = torch.tensor(y_test_2, requires_grad=False, device=device)\n",
    "\n",
    "BATCH_SIZE = 128\n",
    "\n",
    "results_0 = get_predictions_from_generator_results(128, len(y_test_0), NOISE_DIM, device, y_test_0_tensor, expert_0) if len(y_test_0) != 0 else np.zeros((0, 56, 30))\n",
    "results_1 = get_predictions_from_generator_results(128, len(y_test_1), NOISE_DIM, device, y_test_1_tensor, expert_1) if len(y_test_0) != 0 else np.zeros((0, 56, 30))\n",
    "results_2 = get_predictions_from_generator_results(128, len(y_test_2), NOISE_DIM, device, y_test_2_tensor, expert_2) if len(y_test_0) != 0 else np.zeros((0, 56, 30))\n",
    "\n",
    "ch_gen_0 = pd.DataFrame(sum_channels_parallel(results_0)).values if len(results_1) != 0 else np.zeros((0, 5))\n",
    "ch_gen_1 = pd.DataFrame(sum_channels_parallel(results_1)).values if len(results_1) != 0 else np.zeros((0, 5))\n",
    "ch_gen_2 = pd.DataFrame(sum_channels_parallel(results_2)).values if len(results_1) != 0 else np.zeros((0, 5))\n",
    "\n",
    "ws_mean, ws_std, ws_mean_0, ws_mean_1, ws_mean_2 = calculate_joint_ws_across_experts(3,\n",
    "                                                                             [x_test_0, x_test_1, x_test_2],\n",
    "                                                                             [y_test_0, y_test_1, y_test_2],\n",
    "                                                                             [expert_0, expert_1, expert_2], ch_org_quartile_4,\n",
    "                                                                             [ch_gen_0, ch_gen_1, ch_gen_2],\n",
    "                                                                             NOISE_DIM, device,\n",
    "                                                                             n_experts=N_EXPERTS)\n",
    "\n",
    "ws_mean, ws_std, ws_mean_0, ws_mean_1, ws_mean_2"
   ],
   "metadata": {
    "collapsed": false,
    "pycharm": {
     "name": "#%%\n"
    }
   }
  },
  {
   "cell_type": "markdown",
   "source": [
    "#### LOAD rest models"
   ],
   "metadata": {
    "collapsed": false,
    "pycharm": {
     "name": "#%% md\n"
    }
   }
  },
  {
   "cell_type": "markdown",
   "source": [
    "# Model based on routers - STRAT BATCH THE BEST 1.85 WS"
   ],
   "metadata": {
    "collapsed": false,
    "pycharm": {
     "name": "#%% md\n"
    }
   }
  },
  {
   "cell_type": "markdown",
   "source": [
    "## Analyze routers"
   ],
   "metadata": {
    "collapsed": false,
    "pycharm": {
     "name": "#%% md\n"
    }
   }
  },
  {
   "cell_type": "markdown",
   "source": [
    "#### Best router with ws ~ 2.09 based on the equal class batch sampling and router helper"
   ],
   "metadata": {
    "collapsed": false,
    "pycharm": {
     "name": "#%% md\n"
    }
   }
  },
  {
   "cell_type": "code",
   "execution_count": null,
   "outputs": [],
   "source": [
    "y_test_tensor = torch.tensor(y_test_, requires_grad=False, device=device)"
   ],
   "metadata": {
    "collapsed": false,
    "pycharm": {
     "name": "#%%\n"
    }
   }
  },
  {
   "cell_type": "code",
   "execution_count": null,
   "outputs": [],
   "source": [
    "N_EXPERTS = 3\n",
    "N_COND = 9\n",
    "router_network = RouterNetwork(N_COND, N_EXPERTS).to(device)\n",
    "router_weights = r\"C:\\Users\\PB\\DOCUME~1\\GITHUB~1\\GENERA~2\\DYNAMI~1\\pytorch\\DYNAMI~1\\EX3E94~1\\3_D77D~1.001\\models\\router_network_epoch_100.pth\"\n",
    "router_network.load_state_dict(torch.load(router_weights))\n",
    "\n",
    "with torch.no_grad():\n",
    "    router_network.eval()\n",
    "    predicted_expert_one_hot = router_network(y_test_tensor).cpu().numpy()\n",
    "    predicted_expert = np.argmax(predicted_expert_one_hot, axis=1)"
   ],
   "metadata": {
    "collapsed": false,
    "pycharm": {
     "name": "#%%\n"
    }
   }
  },
  {
   "cell_type": "code",
   "execution_count": null,
   "outputs": [],
   "source": [
    "x_test_0 = x_test[np.where(predicted_expert == 0)[0]]\n",
    "x_test_1 = x_test[np.where(predicted_expert == 1)[0]]\n",
    "x_test_2 = x_test[np.where(predicted_expert == 2)[0]]\n",
    "print(len(x_test_0), len(x_test_1), len(x_test_2))"
   ],
   "metadata": {
    "collapsed": false,
    "pycharm": {
     "name": "#%%\n"
    }
   }
  },
  {
   "cell_type": "code",
   "execution_count": null,
   "outputs": [],
   "source": [
    "expert_counts = np.unique(predicted_expert,  return_counts=True)\n",
    "expert_number_count_dict = {expert_number: expert_count for (expert_number, expert_count) in zip(expert_counts[0], expert_counts[1])}"
   ],
   "metadata": {
    "collapsed": false,
    "pycharm": {
     "name": "#%%\n"
    }
   }
  },
  {
   "cell_type": "code",
   "execution_count": null,
   "outputs": [],
   "source": [
    "expert_number_count_dict"
   ],
   "metadata": {
    "collapsed": false,
    "pycharm": {
     "name": "#%%\n"
    }
   }
  },
  {
   "cell_type": "code",
   "execution_count": null,
   "outputs": [],
   "source": [
    "# Assuming data_cond is your DataFrame and proton_photon_sum is a column in it\n",
    "data_cond.proton_photon_sum.hist(bins=30, alpha=0.7, color='blue')  # Adjust bins, alpha, and color as needed\n",
    "\n",
    "# Set the x and y axis to logarithmic scale\n",
    "plt.xscale('log')  # Set x-axis to logarithmic scale\n",
    "plt.yscale('log')  # Set y-axis to logarithmic scale"
   ],
   "metadata": {
    "collapsed": false,
    "pycharm": {
     "name": "#%%\n"
    }
   }
  },
  {
   "cell_type": "code",
   "execution_count": null,
   "outputs": [],
   "source": [
    "data_cond_temp = data_cond.iloc[idx_test].reset_index(drop=True)"
   ],
   "metadata": {
    "collapsed": false,
    "pycharm": {
     "name": "#%%\n"
    }
   }
  },
  {
   "cell_type": "code",
   "execution_count": null,
   "outputs": [],
   "source": [
    "data_cond_0 = data_cond_temp.iloc[np.where(predicted_expert == 0)[0].tolist()]\n",
    "data_cond_1 = data_cond_temp.iloc[np.where(predicted_expert == 1)[0].tolist()]\n",
    "data_cond_2 = data_cond_temp.iloc[np.where(predicted_expert == 2)[0].tolist()]\n",
    "len(data_cond_0), len(data_cond_1), len(data_cond_2)"
   ],
   "metadata": {
    "collapsed": false,
    "pycharm": {
     "name": "#%%\n"
    }
   }
  },
  {
   "cell_type": "code",
   "execution_count": null,
   "outputs": [],
   "source": [
    "fig = plot_proton_photonsum_histogreams_shared(data_cond_0.proton_photon_sum, data_cond_1.proton_photon_sum, data_cond_2.proton_photon_sum)\n",
    "fig.show()"
   ],
   "metadata": {
    "collapsed": false,
    "pycharm": {
     "name": "#%%\n"
    }
   }
  },
  {
   "cell_type": "code",
   "execution_count": null,
   "outputs": [],
   "source": [
    "fig = plot_proton_photonsum_histogreams(data_cond_0.proton_photon_sum, data_cond_1.proton_photon_sum, data_cond_2.proton_photon_sum)\n",
    "fig.show()"
   ],
   "metadata": {
    "collapsed": false,
    "pycharm": {
     "name": "#%%\n"
    }
   }
  },
  {
   "cell_type": "code",
   "execution_count": null,
   "outputs": [],
   "source": [
    "data_cond_0.proton_photon_sum.mean(), data_cond_1.proton_photon_sum.mean(), data_cond_2.proton_photon_sum.mean()"
   ],
   "metadata": {
    "collapsed": false,
    "pycharm": {
     "name": "#%%\n"
    }
   }
  },
  {
   "cell_type": "markdown",
   "source": [
    "### Load models of experts"
   ],
   "metadata": {
    "collapsed": false,
    "pycharm": {
     "name": "#%% md\n"
    }
   }
  },
  {
   "cell_type": "code",
   "execution_count": null,
   "outputs": [],
   "source": [
    "NOISE_DIM = 10\n",
    "N_COND = 9\n",
    "DI_STRENGTH, IN_STRENGTH = 0.1, 0.0001"
   ],
   "metadata": {
    "collapsed": false,
    "pycharm": {
     "name": "#%%\n"
    }
   }
  },
  {
   "cell_type": "code",
   "execution_count": null,
   "outputs": [],
   "source": [
    "############ EXPERT 0 ###############\n",
    "expert_0 = Generator(NOISE_DIM, N_COND, DI_STRENGTH, IN_STRENGTH).to(device)\n",
    "expert_0_weights = r\"C:\\Users\\PB\\DOCUME~1\\GITHUB~1\\GENERA~2\\DYNAMI~1\\pytorch\\DYNAMI~1\\EX1D62~1\\3_D77D~1.001\\models\\gen_0_91.h5\"\n",
    "expert_0.load_state_dict(torch.load(expert_0_weights))\n",
    "\n",
    "############ EXPERT 1 ###############\n",
    "expert_1 = Generator(NOISE_DIM, N_COND, DI_STRENGTH, IN_STRENGTH).to(device)\n",
    "expert_1_weights = r\"C:\\Users\\PB\\DOCUME~1\\GITHUB~1\\GENERA~2\\DYNAMI~1\\pytorch\\DYNAMI~1\\EX1D62~1\\3_D77D~1.001\\models\\gen_1_91.h5\"\n",
    "expert_1.load_state_dict(torch.load(expert_1_weights))\n",
    "\n",
    "############ EXPERT 2 ###############\n",
    "expert_2 = Generator(NOISE_DIM, N_COND, DI_STRENGTH, IN_STRENGTH).to(device)\n",
    "expert_2_weights = r\"C:\\Users\\PB\\DOCUME~1\\GITHUB~1\\GENERA~2\\DYNAMI~1\\pytorch\\DYNAMI~1\\EX1D62~1\\3_D77D~1.001\\models\\gen_2_91.h5\"\n",
    "expert_2.load_state_dict(torch.load(expert_2_weights))\n"
   ],
   "metadata": {
    "collapsed": false,
    "pycharm": {
     "name": "#%%\n"
    }
   }
  },
  {
   "cell_type": "markdown",
   "source": [
    "#### Generate MEAN and STD of the experts on the test data"
   ],
   "metadata": {
    "collapsed": false,
    "pycharm": {
     "name": "#%% md\n"
    }
   }
  },
  {
   "cell_type": "code",
   "execution_count": null,
   "outputs": [],
   "source": [
    "# data_cond_scaled_temp = data_cond.iloc[idx_test]\n",
    "# y_test_0 = data_cond_scaled_temp.iloc[np.where(predicted_expert == 0)[0].tolist()]\n",
    "# y_test_1 = data_cond_scaled_temp.iloc[np.where(predicted_expert == 1)[0].tolist()]\n",
    "# y_test_2 = data_cond_scaled_temp.iloc[np.where(predicted_expert == 2)[0].tolist()]\n",
    "# print(len(y_test_0), len(y_test_1), len(y_test_2))\n",
    "#\n",
    "# y_test_0_tensor = torch.tensor(y_test_0, requires_grad=False, device=device)\n",
    "# y_test_1_tensor = torch.tensor(y_test_1, requires_grad=False, device=device)\n",
    "# y_test_2_tensor = torch.tensor(y_test_2, requires_grad=False, device=device)"
   ],
   "metadata": {
    "collapsed": false,
    "pycharm": {
     "name": "#%%\n"
    }
   }
  },
  {
   "cell_type": "code",
   "execution_count": null,
   "outputs": [],
   "source": [
    "# y_test_0.reset_index(drop=True).proton_photon_sum # 53, 143, 197, 331, 403, 445, 481"
   ],
   "metadata": {
    "collapsed": false,
    "pycharm": {
     "name": "#%%\n"
    }
   }
  },
  {
   "cell_type": "code",
   "execution_count": null,
   "outputs": [],
   "source": [
    "data_cond_scaled_temp = data_cond_scaled[idx_test]\n",
    "y_test_0 = data_cond_scaled_temp[np.where(predicted_expert == 0)[0].tolist()]\n",
    "y_test_1 = data_cond_scaled_temp[np.where(predicted_expert == 1)[0].tolist()]\n",
    "y_test_2 = data_cond_scaled_temp[np.where(predicted_expert == 2)[0].tolist()]\n",
    "print(len(y_test_0), len(y_test_1), len(y_test_2))\n",
    "\n",
    "y_test_0_tensor = torch.tensor(y_test_0, requires_grad=False, device=device)\n",
    "y_test_1_tensor = torch.tensor(y_test_1, requires_grad=False, device=device)\n",
    "y_test_2_tensor = torch.tensor(y_test_2, requires_grad=False, device=device)"
   ],
   "metadata": {
    "collapsed": false,
    "pycharm": {
     "name": "#%%\n"
    }
   }
  },
  {
   "cell_type": "code",
   "execution_count": null,
   "outputs": [],
   "source": [
    "############ EXPERT 0 ###############\n",
    "noise_cond_0 = y_test_0_tensor\n",
    "photonsum_mean_generated_images_0, photonsum_std_generated_images_0, photonsum_on_all_generated_images_0 = get_mean_std_from_expert_genrations(noise_cond_0, expert_0, device, batch_size=256, noise_dim=NOISE_DIM)\n",
    "photonsum_mean_generated_images_0, photonsum_std_generated_images_0"
   ],
   "metadata": {
    "collapsed": false,
    "pycharm": {
     "name": "#%%\n"
    }
   }
  },
  {
   "cell_type": "code",
   "execution_count": null,
   "outputs": [],
   "source": [
    "############ EXPERT 1 ###############\n",
    "noise_cond_1 = y_test_1_tensor\n",
    "photonsum_mean_generated_images_1, photonsum_std_generated_images_1, photonsum_on_all_generated_images_1 = get_mean_std_from_expert_genrations(noise_cond_1, expert_1, device, batch_size=256, noise_dim=NOISE_DIM)\n",
    "photonsum_mean_generated_images_1, photonsum_std_generated_images_1"
   ],
   "metadata": {
    "collapsed": false,
    "pycharm": {
     "name": "#%%\n"
    }
   }
  },
  {
   "cell_type": "code",
   "execution_count": null,
   "outputs": [],
   "source": [
    "############ EXPERT 2 ###############\n",
    "noise_cond_2 = y_test_2_tensor\n",
    "photonsum_mean_generated_images_2, photonsum_std_generated_images_2, photonsum_on_all_generated_images_2 = get_mean_std_from_expert_genrations(noise_cond_2, expert_2, device, batch_size=256, noise_dim=NOISE_DIM)\n",
    "photonsum_mean_generated_images_2, photonsum_std_generated_images_2"
   ],
   "metadata": {
    "collapsed": false,
    "pycharm": {
     "name": "#%%\n"
    }
   }
  },
  {
   "cell_type": "code",
   "execution_count": null,
   "outputs": [],
   "source": [
    "fig = plot_proton_photonsum_histogreams_shared(photonsum_on_all_generated_images_0, photonsum_on_all_generated_images_1, photonsum_on_all_generated_images_2)\n",
    "fig.show()"
   ],
   "metadata": {
    "collapsed": false,
    "pycharm": {
     "name": "#%%\n"
    }
   }
  },
  {
   "cell_type": "markdown",
   "source": [
    "Get histogram"
   ],
   "metadata": {
    "collapsed": false,
    "pycharm": {
     "name": "#%% md\n"
    }
   }
  },
  {
   "cell_type": "code",
   "execution_count": null,
   "outputs": [],
   "source": [
    "y_test_0_tensor = torch.tensor(y_test_0, requires_grad=False, device=device)\n",
    "y_test_1_tensor = torch.tensor(y_test_1, requires_grad=False, device=device)\n",
    "y_test_2_tensor = torch.tensor(y_test_2, requires_grad=False, device=device)\n",
    "BATCH_SIZE = 128\n",
    "results_0 = get_predictions_from_generator_results(128, len(y_test_0), NOISE_DIM, device, y_test_0_tensor, expert_0)\n",
    "results_1 = get_predictions_from_generator_results(128, len(y_test_1), NOISE_DIM, device, y_test_1_tensor, expert_1)\n",
    "results_2 = get_predictions_from_generator_results(128, len(y_test_2), NOISE_DIM, device, y_test_2_tensor, expert_2)\n",
    "\n",
    "ch_gen_0 = pd.DataFrame(sum_channels_parallel(results_0)).values\n",
    "ch_gen_1 = pd.DataFrame(sum_channels_parallel(results_1)).values\n",
    "ch_gen_2 = pd.DataFrame(sum_channels_parallel(results_2)).values\n",
    "\n",
    "ch_gen_all = []\n",
    "ch_gen_all.extend(ch_gen_0.copy())\n",
    "ch_gen_all.extend(ch_gen_1.copy())\n",
    "ch_gen_all.extend(ch_gen_2.copy())\n",
    "ch_gen_all = np.array(ch_gen_all)  # all generated predictions\n",
    "\n",
    "# CALCULATE DISTRIBUTION OF CHANNELS IN ORIGINAL TEST DATA #\n",
    "org = np.exp(x_test) - 1\n",
    "ch_org = np.array(org).reshape(-1, 56, 30)\n",
    "del org\n",
    "ch_org = pd.DataFrame(sum_channels_parallel(ch_org)).values\n",
    "\n",
    "fig, axis = plt.subplots(5, 1, figsize=(10, 14), sharex=False, sharey=False)\n",
    "fig.suptitle(\"TEST\", x=0.1, horizontalalignment='left')\n",
    "\n",
    "for i in range(5):\n",
    "    bins = np.linspace(0, 1500, 250)\n",
    "    axis[i].set_title(\"Kanał \" + str(i + 1))\n",
    "    axis[i].hist(ch_org[:, i], bins, alpha=0.5, label='true', color=\"red\")\n",
    "    axis[i].hist(ch_gen_all[:, i], bins, alpha=0.5, label='generated', color=\"blue\")\n",
    "    axis[i].legend(loc='upper right')\n",
    "    axis[i].set_ylabel('Liczba przykładów')\n",
    "    axis[i].set_xlabel('Wartość kanału')\n",
    "    axis[i].set_yscale('log')\n",
    "\n",
    "fig.tight_layout(rect=[0, 0, 1, 0.975])\n",
    "# fig.savefig(\"hist_orig.png\")\n",
    "plt.show()"
   ],
   "metadata": {
    "collapsed": false,
    "pycharm": {
     "name": "#%%\n"
    }
   }
  },
  {
   "cell_type": "markdown",
   "source": [
    "### CALCULATE WS ###"
   ],
   "metadata": {
    "collapsed": false,
    "pycharm": {
     "name": "#%% md\n"
    }
   }
  },
  {
   "cell_type": "code",
   "execution_count": null,
   "outputs": [],
   "source": [
    "ws_mean, ws_mean_0, ws_mean_1, ws_mean_2 = calculate_joint_ws_across_experts(1,\n",
    "                                                                             [x_test_0,x_test_1,x_test_2],\n",
    "                                                                             [y_test_0, y_test_1, y_test_2],\n",
    "                                                                                         [expert_0, expert_1, expert_2], ch_org,\n",
    "                                                                                         [ch_gen_0, ch_gen_1, ch_gen_2],\n",
    "                                                                                         NOISE_DIM, device,\n",
    "                                                                                         n_experts=N_EXPERTS)\n",
    "\n"
   ],
   "metadata": {
    "collapsed": false,
    "pycharm": {
     "name": "#%%\n"
    }
   }
  },
  {
   "cell_type": "code",
   "execution_count": null,
   "outputs": [],
   "source": [
    "ws_mean, ws_mean_0, ws_mean_1, ws_mean_2"
   ],
   "metadata": {
    "collapsed": false,
    "pycharm": {
     "name": "#%%\n"
    }
   }
  },
  {
   "cell_type": "markdown",
   "source": [],
   "metadata": {
    "collapsed": false,
    "pycharm": {
     "name": "#%% md\n"
    }
   }
  }
 ],
 "metadata": {
  "kernelspec": {
   "display_name": "Python 3",
   "language": "python",
   "name": "python3"
  },
  "language_info": {
   "codemirror_mode": {
    "name": "ipython",
    "version": 2
   },
   "file_extension": ".py",
   "mimetype": "text/x-python",
   "name": "python",
   "nbconvert_exporter": "python",
   "pygments_lexer": "ipython2",
   "version": "2.7.6"
  }
 },
 "nbformat": 4,
 "nbformat_minor": 0
}